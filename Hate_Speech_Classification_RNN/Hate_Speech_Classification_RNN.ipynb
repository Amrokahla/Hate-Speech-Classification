{
 "cells": [
  {
   "cell_type": "markdown",
   "metadata": {},
   "source": [
    "**Dataset**\n",
    "labeled datasset collected from twitter\n",
    "\n",
    "**Objective**\n",
    "classify tweets containing hate speech from other tweets. <br>\n",
    "0 -> no hate speech <br>\n",
    "1 -> contains hate speech <br>\n",
    "\n",
    "**Evaluation metric**\n",
    "macro f1 score"
   ]
  },
  {
   "cell_type": "markdown",
   "metadata": {},
   "source": [
    "<span style=\"color:red\">__Approach__</span>\n",
    "1. Scan hyperparamter space for getting best HP with different variations of model\n",
    "2. Try all the methods RNN, LSTM, GRU on the model with best HP configurations and select best method\n",
    "3. Test the best method & HP with different embeddings and get our final model with highest performance"
   ]
  },
  {
   "cell_type": "markdown",
   "metadata": {},
   "source": [
    "### Import Libraries"
   ]
  },
  {
   "cell_type": "code",
   "execution_count": 4,
   "metadata": {},
   "outputs": [],
   "source": [
    "import warnings\n",
    "warnings.filterwarnings('ignore')\n",
    "\n",
    "import pandas as pd\n",
    "import numpy as np\n",
    "import re, html, emoji\n",
    "import matplotlib.pyplot as plt\n",
    "import gensim.downloader as api\n",
    "from sklearn.base import BaseEstimator, TransformerMixin\n",
    "from sklearn.feature_extraction.text import TfidfVectorizer, CountVectorizer\n",
    "from tensorflow.keras.preprocessing.text import Tokenizer\n",
    "from scipy.sparse import issparse\n",
    "from tensorflow.keras.preprocessing.sequence import pad_sequences\n",
    "from tensorflow.keras.layers import Input, Embedding, SimpleRNN, LSTM, GRU, Dense\n",
    "from tensorflow.keras.layers import Bidirectional\n",
    "from tensorflow.keras.models import Model\n",
    "from sklearn.pipeline import Pipeline\n",
    "from tensorflow.keras.callbacks import EarlyStopping\n",
    "from tensorflow.keras.optimizers import Adam, RMSprop, SGD\n",
    "from sklearn.metrics import f1_score, classification_report"
   ]
  },
  {
   "cell_type": "markdown",
   "metadata": {},
   "source": [
    "### Load Dataset"
   ]
  },
  {
   "cell_type": "code",
   "execution_count": 5,
   "metadata": {},
   "outputs": [
    {
     "data": {
      "application/vnd.microsoft.datawrangler.viewer.v0+json": {
       "columns": [
        {
         "name": "id",
         "rawType": "int64",
         "type": "integer"
        },
        {
         "name": "label",
         "rawType": "int64",
         "type": "integer"
        },
        {
         "name": "tweet",
         "rawType": "object",
         "type": "string"
        }
       ],
       "conversionMethod": "pd.DataFrame",
       "ref": "420c79d2-6668-4a49-b6a4-ffc394b293d4",
       "rows": [
        [
         "1",
         "0",
         "@user when a father is dysfunctional and is so selfish he drags his kids into his dysfunction.   #run"
        ],
        [
         "2",
         "0",
         "@user @user thanks for #lyft credit i can't use cause they don't offer wheelchair vans in pdx.    #disapointed #getthanked"
        ],
        [
         "3",
         "0",
         "bihday your majesty"
        ],
        [
         "4",
         "0",
         "#model   i love u take with u all the time in urð±!!! ððððð¦ð¦ð¦"
        ],
        [
         "5",
         "0",
         "factsguide: society now    #motivation"
        ],
        [
         "6",
         "0",
         "[2/2] huge fan fare and big talking before they leave. chaos and pay disputes when they get there. #allshowandnogo"
        ],
        [
         "7",
         "0",
         "@user camping tomorrow @user @user @user @user @user @user @user dannyâ¦"
        ],
        [
         "8",
         "0",
         "the next school year is the year for exams.ð¯ can't think about that ð­ #school #exams   #hate #imagine #actorslife #revolutionschool #girl"
        ],
        [
         "9",
         "0",
         "we won!!! love the land!!! #allin #cavs #champions #cleveland #clevelandcavaliers  â¦"
        ],
        [
         "10",
         "0",
         "@user @user welcome here !  i'm   it's so #gr8 !"
        ],
        [
         "11",
         "0",
         "â #ireland consumer price index (mom) climbed from previous 0.2% to 0.5% in may   #blog #silver #gold #forex"
        ],
        [
         "12",
         "0",
         "we are so selfish. #orlando #standwithorlando #pulseshooting #orlandoshooting #biggerproblems #selfish #heabreaking   #values #love #"
        ],
        [
         "13",
         "0",
         "i get to see my daddy today!!   #80days #gettingfed"
        ],
        [
         "14",
         "1",
         "@user #cnn calls #michigan middle school 'build the wall' chant '' #tcot"
        ],
        [
         "15",
         "1",
         "no comment!  in #australia   #opkillingbay #seashepherd #helpcovedolphins #thecove  #helpcovedolphins"
        ],
        [
         "16",
         "0",
         "ouch...junior is angryð#got7 #junior #yugyoem   #omg"
        ],
        [
         "17",
         "0",
         "i am thankful for having a paner. #thankful #positive"
        ],
        [
         "18",
         "1",
         "retweet if you agree!"
        ],
        [
         "19",
         "0",
         "its #friday! ð smiles all around via ig user: @user #cookies make people"
        ],
        [
         "20",
         "0",
         "as we all know, essential oils are not made of chemicals. "
        ],
        [
         "21",
         "0",
         "#euro2016 people blaming ha for conceded goal was it fat rooney who gave away free kick knowing bale can hit them from there."
        ],
        [
         "22",
         "0",
         "sad little dude..   #badday #coneofshame #cats #pissed #funny #laughs"
        ],
        [
         "23",
         "0",
         "product of the day: happy man #wine tool  who's   it's the #weekend? time to open up &amp; drink up!"
        ],
        [
         "24",
         "1",
         "@user @user lumpy says i am a . prove it lumpy."
        ],
        [
         "25",
         "0",
         "@user #tgif   #ff to my #gamedev #indiedev #indiegamedev #squad! @user @user @user @user @user"
        ],
        [
         "26",
         "0",
         "beautiful sign by vendor 80 for $45.00!! #upsideofflorida #shopalyssas   #love"
        ],
        [
         "27",
         "0",
         "@user all #smiles when #media is   !! ðð #pressconference in #antalya #turkey ! sunday #throwback  love! ððâ¤ï¸"
        ],
        [
         "28",
         "0",
         "we had a great panel on the mediatization of the public service   #ica16"
        ],
        [
         "29",
         "0",
         "happy father's day @user ðððð"
        ],
        [
         "30",
         "0",
         "50 people went to nightclub to have a good night and 1 man's actions means those people are lost to their families forever #rip#orlando"
        ],
        [
         "31",
         "0",
         "i have never had a chance to vote for a presidential candidate i was excited about and this cycle looks to be no different."
        ],
        [
         "32",
         "0",
         "#alohafriday #time does #not #exist #positivevibes #hawaiian @user @user @user @user"
        ],
        [
         "33",
         "0",
         " @user rip to the fellow nohern ireland fan who sadley passed away tonight!.. gawa, forever singing and cheering on fire  "
        ],
        [
         "34",
         "0",
         "it was a hard monday due to cloudy weather. disabling oxygen production for today. #goodnight #badmonday"
        ],
        [
         "35",
         "1",
         "it's unbelievable that in the 21st century we'd need something like this. again. #neverump  #xenophobia"
        ],
        [
         "36",
         "0",
         "#taylorswift1989   bull up: you will dominate your bull and you will direct it whatever you want it to do. w"
        ],
        [
         "37",
         "0",
         "morning~~ #travelingram #dalat   #ripinkylife"
        ],
        [
         "38",
         "0",
         "@user once more only one word tells it all: #photoshop.  #enoughisenough #dontphotoshopeverything #wheresallthenaturalphotos"
        ],
        [
         "39",
         "0",
         "oh, #cedarpoint. waited 2 hours in the valravn line and it stopped working. we were so close.  "
        ],
        [
         "40",
         "0",
         "i am thankful for sunshine. #thankful #positive"
        ],
        [
         "41",
         "0",
         "when you finally finish a book you've been working on for awhile...  #bookworm #ontothenextnovel"
        ],
        [
         "42",
         "0",
         "yup, being a knicks fan is hard, so its easier to just be an nba fan when the playoffs roll around ð "
        ],
        [
         "43",
         "0",
         "there is life after social networking. embrace each day. be"
        ],
        [
         "44",
         "0",
         "my mom shares the same bihday as @user   bihday snake! see you this weekend ðð¼"
        ],
        [
         "45",
         "0",
         "lovely echeveria blooms#flowers #grow #gardening #iphonesia #bliss #blooms #basilicabotanica"
        ],
        [
         "46",
         "0",
         "i am amazing. #i_am #positive #affirmation"
        ],
        [
         "47",
         "0",
         "#model   i love u take with u all the time in urð±!!! ððððð¦ð¦ð¦"
        ],
        [
         "48",
         "0",
         "#whenever im   and #something goes #wrong  |"
        ],
        [
         "49",
         "0",
         "feeling blue #illustration"
        ],
        [
         "50",
         "0",
         "the best pa about life is knowing who you are! ðâï¸ð¼ð»  â¦"
        ]
       ],
       "shape": {
        "columns": 2,
        "rows": 31535
       }
      },
      "text/html": [
       "<div>\n",
       "<style scoped>\n",
       "    .dataframe tbody tr th:only-of-type {\n",
       "        vertical-align: middle;\n",
       "    }\n",
       "\n",
       "    .dataframe tbody tr th {\n",
       "        vertical-align: top;\n",
       "    }\n",
       "\n",
       "    .dataframe thead th {\n",
       "        text-align: right;\n",
       "    }\n",
       "</style>\n",
       "<table border=\"1\" class=\"dataframe\">\n",
       "  <thead>\n",
       "    <tr style=\"text-align: right;\">\n",
       "      <th></th>\n",
       "      <th>label</th>\n",
       "      <th>tweet</th>\n",
       "    </tr>\n",
       "    <tr>\n",
       "      <th>id</th>\n",
       "      <th></th>\n",
       "      <th></th>\n",
       "    </tr>\n",
       "  </thead>\n",
       "  <tbody>\n",
       "    <tr>\n",
       "      <th>1</th>\n",
       "      <td>0</td>\n",
       "      <td>@user when a father is dysfunctional and is so...</td>\n",
       "    </tr>\n",
       "    <tr>\n",
       "      <th>2</th>\n",
       "      <td>0</td>\n",
       "      <td>@user @user thanks for #lyft credit i can't us...</td>\n",
       "    </tr>\n",
       "    <tr>\n",
       "      <th>3</th>\n",
       "      <td>0</td>\n",
       "      <td>bihday your majesty</td>\n",
       "    </tr>\n",
       "    <tr>\n",
       "      <th>4</th>\n",
       "      <td>0</td>\n",
       "      <td>#model   i love u take with u all the time in ...</td>\n",
       "    </tr>\n",
       "    <tr>\n",
       "      <th>5</th>\n",
       "      <td>0</td>\n",
       "      <td>factsguide: society now    #motivation</td>\n",
       "    </tr>\n",
       "    <tr>\n",
       "      <th>...</th>\n",
       "      <td>...</td>\n",
       "      <td>...</td>\n",
       "    </tr>\n",
       "    <tr>\n",
       "      <th>31958</th>\n",
       "      <td>0</td>\n",
       "      <td>ate @user isz that youuu?ðððððð...</td>\n",
       "    </tr>\n",
       "    <tr>\n",
       "      <th>31959</th>\n",
       "      <td>0</td>\n",
       "      <td>to see nina turner on the airwaves trying to w...</td>\n",
       "    </tr>\n",
       "    <tr>\n",
       "      <th>31960</th>\n",
       "      <td>0</td>\n",
       "      <td>listening to sad songs on a monday morning otw...</td>\n",
       "    </tr>\n",
       "    <tr>\n",
       "      <th>31961</th>\n",
       "      <td>1</td>\n",
       "      <td>@user #sikh #temple vandalised in in #calgary,...</td>\n",
       "    </tr>\n",
       "    <tr>\n",
       "      <th>31962</th>\n",
       "      <td>0</td>\n",
       "      <td>thank you @user for you follow</td>\n",
       "    </tr>\n",
       "  </tbody>\n",
       "</table>\n",
       "<p>31535 rows × 2 columns</p>\n",
       "</div>"
      ],
      "text/plain": [
       "       label                                              tweet\n",
       "id                                                             \n",
       "1          0  @user when a father is dysfunctional and is so...\n",
       "2          0  @user @user thanks for #lyft credit i can't us...\n",
       "3          0                                bihday your majesty\n",
       "4          0  #model   i love u take with u all the time in ...\n",
       "5          0             factsguide: society now    #motivation\n",
       "...      ...                                                ...\n",
       "31958      0  ate @user isz that youuu?ðððððð...\n",
       "31959      0  to see nina turner on the airwaves trying to w...\n",
       "31960      0  listening to sad songs on a monday morning otw...\n",
       "31961      1  @user #sikh #temple vandalised in in #calgary,...\n",
       "31962      0                     thank you @user for you follow\n",
       "\n",
       "[31535 rows x 2 columns]"
      ]
     },
     "execution_count": 5,
     "metadata": {},
     "output_type": "execute_result"
    }
   ],
   "source": [
    "data = pd.read_csv(\"Hate Speech.tsv\", sep='\\t', index_col= 'id')\n",
    "data"
   ]
  },
  {
   "cell_type": "markdown",
   "metadata": {},
   "source": [
    "### Data splitting"
   ]
  },
  {
   "cell_type": "code",
   "execution_count": 6,
   "metadata": {},
   "outputs": [
    {
     "name": "stdout",
     "output_type": "stream",
     "text": [
      "train_size: 22074\n",
      "test_size: 4730\n",
      "val_size: 4730\n"
     ]
    }
   ],
   "source": [
    "train_size = int(0.7 * len(data))\n",
    "test_size = val_size = int(0.15 * len(data))\n",
    "print(f\"train_size: {train_size}\\ntest_size: {test_size}\\nval_size: {val_size}\")"
   ]
  },
  {
   "cell_type": "code",
   "execution_count": 7,
   "metadata": {},
   "outputs": [
    {
     "name": "stdout",
     "output_type": "stream",
     "text": [
      "train class distribution\n",
      "label\n",
      "0    20531\n",
      "1     1543\n",
      "Name: count, dtype: int64\n",
      "class distribution 0.07515464419658079\n",
      "\n",
      "val class distribution\n",
      "label\n",
      "0    4395\n",
      "1     335\n",
      "Name: count, dtype: int64\n",
      "class distribution 0.07622298065984073\n",
      "\n",
      "test class distribution\n",
      "label\n",
      "0    4396\n",
      "1     335\n",
      "Name: count, dtype: int64\n",
      "class distribution 0.07620564149226569\n"
     ]
    }
   ],
   "source": [
    "train = data[:train_size]\n",
    "val = data[train_size:train_size+val_size]\n",
    "test = data[train_size+val_size:]\n",
    "\n",
    "print(f\"train class distribution\\n{train['label'].value_counts()}\")\n",
    "print(f\"class distribution {train['label'].value_counts()[1]/train['label'].value_counts()[0]}\\n\")\n",
    "print(f\"val class distribution\\n{val['label'].value_counts()}\")\n",
    "print(f\"class distribution {val['label'].value_counts()[1]/val['label'].value_counts()[0]}\\n\")\n",
    "print(f\"test class distribution\\n{test['label'].value_counts()}\")\n",
    "print(f\"class distribution {test['label'].value_counts()[1]/test['label'].value_counts()[0]}\")"
   ]
  },
  {
   "cell_type": "markdown",
   "metadata": {},
   "source": [
    "### Preprocessing"
   ]
  },
  {
   "cell_type": "code",
   "execution_count": 8,
   "metadata": {},
   "outputs": [],
   "source": [
    "class textCleaner(BaseEstimator, TransformerMixin):\n",
    "    def __init__(self, text_column='tweet'):\n",
    "        self.text_column = text_column\n",
    "\n",
    "    def fit(self, X, y= None):\n",
    "        return self\n",
    "    \n",
    "    def transform(self, X):\n",
    "        X = X.copy()\n",
    "        X[self.text_column] = X[self.text_column].apply(self.clean_text)\n",
    "        return X\n",
    "    \n",
    "    def clean_text(self, text, encode_emoji=True):\n",
    "        text = html.unescape(text)\n",
    "        text = re.sub(r'@\\w+', '', text)\n",
    "        text = re.sub(r'#(\\w+)', lambda m: re.sub(r'(?<=[a-z])(?=[A-Z])', ' ', m.group(1)), text)\n",
    "        text = re.sub(r'http\\S+|www\\S+', '', text)\n",
    "\n",
    "        if encode_emoji:\n",
    "            text = emoji.demojize(text)\n",
    "            text = re.sub(r':([a-zA-Z_]+):', r'\\1', text)\n",
    "\n",
    "        text = text.lower()\n",
    "        text = re.sub(r'\\d+', '<NUM>', text)\n",
    "        text = re.sub(r'[^\\x00-\\x7F]+', '', text)\n",
    "        text = re.sub(r'[^\\w\\s<>]', '', text)\n",
    "        text = re.sub(r'_+', ' ', text).strip()\n",
    "        text = re.sub(r'\\s+', ' ', text).strip()\n",
    "        return text"
   ]
  },
  {
   "cell_type": "code",
   "execution_count": 9,
   "metadata": {},
   "outputs": [],
   "source": [
    "class Vectorizer(BaseEstimator, TransformerMixin):\n",
    "    def __init__(self, method=\"SEQUENCE_RANDOM\", text_column=\"tweet\", max_len=100, num_words=10000, vector_size=300):\n",
    "        self.method = method.upper()\n",
    "        self.text_column = text_column\n",
    "        self.max_len = max_len\n",
    "        self.num_words = num_words\n",
    "        self.vector_size = vector_size\n",
    "\n",
    "    def fit(self, X, y=None):\n",
    "        texts = X[self.text_column].values\n",
    "\n",
    "        self.tokenizer_ = Tokenizer(num_words=self.num_words, oov_token=\"<OOV>\")\n",
    "        self.tokenizer_.fit_on_texts(texts)\n",
    "\n",
    "        if self.method == \"SEQUENCE_W2V\":\n",
    "            self.embeddings_ = api.load(\"word2vec-google-news-300\")\n",
    "            self.embedding_matrix_ = self._build_embedding_matrix()\n",
    "\n",
    "        elif self.method == \"SEQUENCE_GLOVE\":\n",
    "            self.embeddings_ = api.load(\"glove-wiki-gigaword-300\")\n",
    "            self.embedding_matrix_ = self._build_embedding_matrix()\n",
    "\n",
    "        elif self.method == \"SEQUENCE_FASTTEXT\":\n",
    "            self.embeddings_ = api.load(\"fasttext-wiki-news-subwords-300\")\n",
    "            self.embedding_matrix_ = self._build_embedding_matrix()\n",
    "\n",
    "        elif self.method == \"SEQUENCE_RANDOM\":\n",
    "            vocab_size = min(len(self.tokenizer_.word_index) + 1, self.num_words)\n",
    "            self.embedding_matrix_ = np.random.uniform(-0.25, 0.25, (vocab_size, self.vector_size))\n",
    "\n",
    "        return self\n",
    "\n",
    "    def transform(self, X):\n",
    "        texts = X[self.text_column].values\n",
    "        sequences = self.tokenizer_.texts_to_sequences(texts)\n",
    "        padded = pad_sequences(sequences, maxlen=self.max_len, padding='post')\n",
    "        return padded\n",
    "\n",
    "    def _build_embedding_matrix(self):\n",
    "        word_index = self.tokenizer_.word_index\n",
    "        vocab_size = min(len(word_index) + 1, self.num_words)\n",
    "        embedding_matrix = np.zeros((vocab_size, self.vector_size))\n",
    "        for word, i in word_index.items():\n",
    "            if i >= self.num_words:\n",
    "                continue\n",
    "            try:\n",
    "                vector = self.embeddings_[word]\n",
    "                embedding_matrix[i] = vector\n",
    "            except KeyError:\n",
    "                continue\n",
    "        return embedding_matrix"
   ]
  },
  {
   "cell_type": "code",
   "execution_count": 10,
   "metadata": {},
   "outputs": [],
   "source": [
    "class ToDense(TransformerMixin):\n",
    "    def fit(self, X, y=None):\n",
    "        return self\n",
    "    def transform(self, X):\n",
    "        return X.toarray() if issparse(X) else X"
   ]
  },
  {
   "cell_type": "markdown",
   "metadata": {},
   "source": [
    "### Modelling"
   ]
  },
  {
   "cell_type": "code",
   "execution_count": 19,
   "metadata": {},
   "outputs": [],
   "source": [
    "def create_rnn_model(vocab_size, embedding_dim, max_len, embedding_matrix=None, rnn_type='lstm', num_layers=1, num_units=64, bidirectional=False, \n",
    "                    dropout=0.2, trainable_embedding=False, optimizer = 'adam'):\n",
    "\n",
    "    rnn_type = rnn_type.lower()\n",
    "    input_layer = Input(shape=(max_len,))\n",
    "    \n",
    "    if embedding_matrix is not None:\n",
    "        x = Embedding(input_dim=vocab_size, output_dim=embedding_dim, weights=[embedding_matrix], input_length=max_len, trainable=trainable_embedding)(input_layer)\n",
    "    else:\n",
    "        x = Embedding(input_dim=vocab_size, output_dim=embedding_dim, input_length=max_len)(input_layer)\n",
    "    \n",
    "    for i in range(num_layers):\n",
    "        return_sequences = i < num_layers - 1\n",
    "        if rnn_type == 'rnn':\n",
    "            rnn_layer = SimpleRNN(num_units, return_sequences=return_sequences, dropout=dropout)\n",
    "        elif rnn_type == 'lstm':\n",
    "            rnn_layer = LSTM(num_units, return_sequences=return_sequences, dropout=dropout)\n",
    "        elif rnn_type == 'gru':\n",
    "            rnn_layer = GRU(num_units, return_sequences=return_sequences, dropout=dropout)\n",
    "        else:\n",
    "            raise ValueError(f\"Unknown RNN type: {rnn_type}\")\n",
    "        \n",
    "        if bidirectional:\n",
    "            x = Bidirectional(rnn_layer)(x)\n",
    "        else:\n",
    "            x = rnn_layer(x)\n",
    "    \n",
    "    output = Dense(1, activation='sigmoid')(x)\n",
    "    \n",
    "    model = Model(inputs=input_layer, outputs=output)\n",
    "    model.compile(optimizer=optimizer, loss='binary_crossentropy', metrics=['accuracy'])\n",
    "    \n",
    "    return model"
   ]
  },
  {
   "cell_type": "code",
   "execution_count": 12,
   "metadata": {},
   "outputs": [],
   "source": [
    "def train_evaluate_model(model, X_train, y_train, X_val, y_val, batch_size=32, epochs=5, callbacks=None):\n",
    "\n",
    "    history = model.fit(X_train, y_train, batch_size=batch_size, epochs=epochs, validation_data=(X_val, y_val), callbacks=callbacks, verbose=1)\n",
    "\n",
    "    val_metrics = model.evaluate(X_val, y_val, verbose=0)\n",
    "    \n",
    "    return history, val_metrics"
   ]
  },
  {
   "cell_type": "markdown",
   "metadata": {},
   "source": [
    "#### Evaluation"
   ]
  },
  {
   "cell_type": "code",
   "execution_count": 13,
   "metadata": {},
   "outputs": [],
   "source": [
    "pipeline = Pipeline([\n",
    "    (\"clean\", textCleaner(text_column=\"tweet\")),\n",
    "    (\"vectorize\", Vectorizer(method=\"SEQUENCE_RANDOM\", text_column=\"tweet\")),])\n",
    "\n",
    "X_train = pipeline.fit_transform(train)\n",
    "y_train = train[\"label\"].values"
   ]
  },
  {
   "cell_type": "code",
   "execution_count": 14,
   "metadata": {},
   "outputs": [
    {
     "name": "stdout",
     "output_type": "stream",
     "text": [
      "Vocabulary size: 10000\n",
      "Embedding dimension: 300\n",
      "Maximum sequence length: 100\n"
     ]
    }
   ],
   "source": [
    "vectorizer = pipeline.named_steps[\"vectorize\"]\n",
    "embedding_matrix = vectorizer.embedding_matrix_\n",
    "vocab_size = min(len(vectorizer.tokenizer_.word_index) + 1, vectorizer.num_words)\n",
    "embedding_dim = vectorizer.vector_size\n",
    "max_len = vectorizer.max_len\n",
    "\n",
    "print(f\"Vocabulary size: {vocab_size}\")\n",
    "print(f\"Embedding dimension: {embedding_dim}\")\n",
    "print(f\"Maximum sequence length: {max_len}\")"
   ]
  },
  {
   "cell_type": "code",
   "execution_count": 15,
   "metadata": {},
   "outputs": [],
   "source": [
    "X_val = pipeline.transform(val)\n",
    "y_val = val[\"label\"].values"
   ]
  },
  {
   "cell_type": "code",
   "execution_count": 17,
   "metadata": {},
   "outputs": [
    {
     "name": "stdout",
     "output_type": "stream",
     "text": [
      "Model Summary:\n",
      "Model: \"model_1\"\n",
      "_________________________________________________________________\n",
      " Layer (type)                Output Shape              Param #   \n",
      "=================================================================\n",
      " input_2 (InputLayer)        [(None, 100)]             0         \n",
      "                                                                 \n",
      " embedding_1 (Embedding)     (None, 100, 300)          3000000   \n",
      "                                                                 \n",
      " lstm_1 (LSTM)               (None, 256)               570368    \n",
      "                                                                 \n",
      " dense_3 (Dense)             (None, 64)                16448     \n",
      "                                                                 \n",
      " dense_4 (Dense)             (None, 32)                2080      \n",
      "                                                                 \n",
      " dense_5 (Dense)             (None, 1)                 33        \n",
      "                                                                 \n",
      "=================================================================\n",
      "Total params: 3,588,929\n",
      "Trainable params: 588,929\n",
      "Non-trainable params: 3,000,000\n",
      "_________________________________________________________________\n"
     ]
    }
   ],
   "source": [
    "input_layer = Input(shape=(max_len,))\n",
    "x = Embedding(input_dim=vocab_size, output_dim=embedding_dim, weights=[embedding_matrix], input_length=max_len, trainable=False)(input_layer)\n",
    "x = LSTM(256, dropout=0.2)(x)\n",
    "x = Dense(64, activation= 'relu')(x)\n",
    "x = Dense(32, activation= 'relu')(x)\n",
    "output = Dense(1, activation='sigmoid')(x)\n",
    "model = Model(inputs=input_layer, outputs=output)\n",
    "\n",
    "model.compile(optimizer='adam', loss='binary_crossentropy', metrics=['accuracy'])\n",
    "\n",
    "print(\"Model Summary:\")\n",
    "model.summary()"
   ]
  },
  {
   "cell_type": "code",
   "execution_count": 18,
   "metadata": {},
   "outputs": [
    {
     "name": "stdout",
     "output_type": "stream",
     "text": [
      "Epoch 1/20\n",
      "173/173 [==============================] - 22s 51ms/step - loss: 0.2613 - accuracy: 0.9250 - val_loss: 0.2561 - val_accuracy: 0.9292\n",
      "Epoch 2/20\n",
      "173/173 [==============================] - 8s 45ms/step - loss: 0.2549 - accuracy: 0.9301 - val_loss: 0.2620 - val_accuracy: 0.9292\n",
      "Epoch 3/20\n",
      "173/173 [==============================] - 8s 45ms/step - loss: 0.2545 - accuracy: 0.9301 - val_loss: 0.2560 - val_accuracy: 0.9292\n",
      "Epoch 4/20\n",
      "173/173 [==============================] - 8s 47ms/step - loss: 0.2542 - accuracy: 0.9301 - val_loss: 0.2568 - val_accuracy: 0.9292\n",
      "Epoch 5/20\n",
      "173/173 [==============================] - 8s 46ms/step - loss: 0.2547 - accuracy: 0.9301 - val_loss: 0.2560 - val_accuracy: 0.9292\n",
      "Epoch 6/20\n",
      "173/173 [==============================] - 9s 50ms/step - loss: 0.2542 - accuracy: 0.9301 - val_loss: 0.2561 - val_accuracy: 0.9292\n",
      "Epoch 7/20\n",
      "173/173 [==============================] - 8s 47ms/step - loss: 0.2538 - accuracy: 0.9301 - val_loss: 0.2558 - val_accuracy: 0.9292\n",
      "Epoch 8/20\n",
      "173/173 [==============================] - 8s 47ms/step - loss: 0.2540 - accuracy: 0.9301 - val_loss: 0.2574 - val_accuracy: 0.9292\n",
      "Epoch 9/20\n",
      "173/173 [==============================] - 8s 45ms/step - loss: 0.2548 - accuracy: 0.9301 - val_loss: 0.2561 - val_accuracy: 0.9292\n",
      "Epoch 10/20\n",
      "173/173 [==============================] - 8s 45ms/step - loss: 0.2542 - accuracy: 0.9301 - val_loss: 0.2560 - val_accuracy: 0.9292\n",
      "Epoch 11/20\n",
      "173/173 [==============================] - 8s 46ms/step - loss: 0.2548 - accuracy: 0.9301 - val_loss: 0.2565 - val_accuracy: 0.9292\n",
      "Epoch 12/20\n",
      "173/173 [==============================] - 8s 46ms/step - loss: 0.2541 - accuracy: 0.9301 - val_loss: 0.2567 - val_accuracy: 0.9292\n",
      "Epoch 13/20\n",
      "173/173 [==============================] - 8s 47ms/step - loss: 0.2540 - accuracy: 0.9301 - val_loss: 0.2563 - val_accuracy: 0.9292\n",
      "Epoch 14/20\n",
      "173/173 [==============================] - 8s 48ms/step - loss: 0.2539 - accuracy: 0.9301 - val_loss: 0.2572 - val_accuracy: 0.9292\n",
      "Epoch 15/20\n",
      "173/173 [==============================] - 8s 46ms/step - loss: 0.2536 - accuracy: 0.9301 - val_loss: 0.2558 - val_accuracy: 0.9292\n",
      "Epoch 16/20\n",
      "173/173 [==============================] - 8s 47ms/step - loss: 0.2542 - accuracy: 0.9301 - val_loss: 0.2559 - val_accuracy: 0.9292\n",
      "Epoch 17/20\n",
      "173/173 [==============================] - 8s 46ms/step - loss: 0.2543 - accuracy: 0.9301 - val_loss: 0.2558 - val_accuracy: 0.9292\n",
      "Epoch 18/20\n",
      "173/173 [==============================] - 8s 47ms/step - loss: 0.2546 - accuracy: 0.9301 - val_loss: 0.2559 - val_accuracy: 0.9292\n",
      "Epoch 19/20\n",
      "173/173 [==============================] - 8s 47ms/step - loss: 0.2536 - accuracy: 0.9301 - val_loss: 0.2577 - val_accuracy: 0.9292\n",
      "Epoch 20/20\n",
      "173/173 [==============================] - 8s 47ms/step - loss: 0.2541 - accuracy: 0.9301 - val_loss: 0.2563 - val_accuracy: 0.9292\n"
     ]
    }
   ],
   "source": [
    "history = model.fit(X_train, y_train, batch_size=128, epochs=20, validation_data=(X_val, y_val), verbose=1)"
   ]
  },
  {
   "cell_type": "code",
   "execution_count": 20,
   "metadata": {},
   "outputs": [
    {
     "name": "stdout",
     "output_type": "stream",
     "text": [
      "148/148 [==============================] - 2s 15ms/step - loss: 0.2563 - accuracy: 0.9292\n",
      "Validation Loss: 0.2563\n",
      "Validation Accuracy: 0.9292\n",
      "148/148 [==============================] - 3s 10ms/step\n",
      "Validation Macro F1 Score: 0.4816\n",
      "              precision    recall  f1-score   support\n",
      "\n",
      "           0       0.93      1.00      0.96      4395\n",
      "           1       0.00      0.00      0.00       335\n",
      "\n",
      "    accuracy                           0.93      4730\n",
      "   macro avg       0.46      0.50      0.48      4730\n",
      "weighted avg       0.86      0.93      0.90      4730\n",
      "\n"
     ]
    }
   ],
   "source": [
    "val_loss, val_acc = model.evaluate(X_val, y_val)\n",
    "print(f\"Validation Loss: {val_loss:.4f}\")\n",
    "print(f\"Validation Accuracy: {val_acc:.4f}\")\n",
    "\n",
    "y_pred_prob = model.predict(X_val)\n",
    "y_pred = (y_pred_prob > 0.5).astype(int).flatten()\n",
    "val_f1 = f1_score(y_val, y_pred, average=\"macro\")\n",
    "print(f\"Validation Macro F1 Score: {val_f1:.4f}\")\n",
    "\n",
    "print(classification_report(y_val, y_pred))"
   ]
  },
  {
   "cell_type": "code",
   "execution_count": 21,
   "metadata": {},
   "outputs": [
    {
     "data": {
      "image/png": "[encoded data removed]",
      "text/plain": [
       "<Figure size 1200x400 with 2 Axes>"
      ]
     },
     "metadata": {},
     "output_type": "display_data"
    }
   ],
   "source": [
    "plt.figure(figsize=(12, 4))\n",
    "\n",
    "plt.subplot(1, 2, 1)\n",
    "plt.plot(history.history['loss'], label='Training Loss')\n",
    "plt.plot(history.history['val_loss'], label='Validation Loss')\n",
    "plt.title('Training and Validation Loss')\n",
    "plt.xlabel('Epoch')\n",
    "plt.ylabel('Loss')\n",
    "plt.legend()\n",
    "\n",
    "plt.subplot(1, 2, 2)\n",
    "plt.plot(history.history['accuracy'], label='Training Accuracy')\n",
    "plt.plot(history.history['val_accuracy'], label='Validation Accuracy')\n",
    "plt.title('Training and Validation Accuracy')\n",
    "plt.xlabel('Epoch')\n",
    "plt.ylabel('Accuracy')\n",
    "plt.legend()\n",
    "\n",
    "plt.tight_layout()\n",
    "plt.show()"
   ]
  },
  {
   "cell_type": "markdown",
   "metadata": {},
   "source": [
    "### Enhancement"
   ]
  },
  {
   "cell_type": "code",
   "execution_count": 22,
   "metadata": {},
   "outputs": [],
   "source": [
    "def calculate_f1_score(model, X, y_true):\n",
    "    y_pred_proba = model.predict(X)\n",
    "    y_pred = (y_pred_proba > 0.5).astype(int).flatten()\n",
    "    \n",
    "    macro_f1 = f1_score(y_true, y_pred, average='macro')\n",
    "    \n",
    "    #print(classification_report(y_true, y_pred))\n",
    "    \n",
    "    return macro_f1"
   ]
  },
  {
   "cell_type": "code",
   "execution_count": 27,
   "metadata": {},
   "outputs": [],
   "source": [
    "def hyperparameter_tuning(X_train, y_train, X_val, y_val, vocab_size, embedding_dim, max_len, embedding_matrix=None):\n",
    "    results = []\n",
    "    \n",
    "    early_stopping = EarlyStopping(monitor='val_loss', patience=5, restore_best_weights=True)\n",
    "    \n",
    "    hyperparams = [\n",
    "        ('rnn', 1, 64, True, 32, 0.2, 0.001, 'adam'),\n",
    "        ('lstm', 1, 64, False, 32, 0.2, 0.001, 'adam'),\n",
    "        ('gru', 1, 64, False, 32, 0.2, 0.001, 'adam'),\n",
    "        ('lstm', 2, 64, False, 32, 0.2, 0.001, 'adam'),\n",
    "        ('lstm', 1, 128, False, 32, 0.2, 0.001, 'adam'),\n",
    "        ('lstm', 1, 64, True, 32, 0.2, 0.001, 'adam'),\n",
    "        ('lstm', 1, 64, False, 64, 0.2, 0.001, 'adam'),\n",
    "        ('lstm', 1, 64, False, 32, 0.3, 0.001, 'adam'),\n",
    "        ('lstm', 1, 64, True, 32, 0.2, 0.01, 'adam'),\n",
    "        ('lstm', 1, 64, False, 32, 0.2, 0.001, 'rmsprop'),\n",
    "        ('gru', 2, 128, True, 64, 0.3, 0.001, 'adam'),\n",
    "    ]\n",
    "    \n",
    "    for rnn_type, num_layers, num_units, bidirectional, batch_size, dropout, learning_rate, optimizer_name in hyperparams:\n",
    "        print(f\"\\nTraining model with: RNN={rnn_type}, Layers={num_layers}, Units={num_units}, \"\n",
    "              f\"Bidirectional={bidirectional}, Batch={batch_size}, Dropout={dropout}, \"\n",
    "              f\"LR={learning_rate}, Optimizer={optimizer_name}\")\n",
    "        \n",
    "        if optimizer_name == 'adam':\n",
    "            optimizer = Adam(learning_rate=learning_rate)\n",
    "        elif optimizer_name == 'rmsprop':\n",
    "            optimizer = RMSprop(learning_rate=learning_rate)\n",
    "        elif optimizer_name == 'sgd':\n",
    "            optimizer = SGD(learning_rate=learning_rate)\n",
    "        \n",
    "        model = create_rnn_model(vocab_size=vocab_size, embedding_dim=embedding_dim, max_len=max_len, embedding_matrix=embedding_matrix, rnn_type=rnn_type,\n",
    "            num_layers=num_layers, num_units=num_units, bidirectional=bidirectional, dropout=dropout, optimizer=optimizer_name)\n",
    "        \n",
    "        model.compile(optimizer=optimizer, loss='binary_crossentropy',metrics=['accuracy'])\n",
    "        \n",
    "        history, val_metrics = train_evaluate_model(model=model, X_train=X_train, y_train=y_train, X_val=X_val, y_val=y_val, batch_size=batch_size,\n",
    "            epochs=10, callbacks=[early_stopping])\n",
    "        \n",
    "        val_f1 = calculate_f1_score(model, X_val, y_val)\n",
    "        \n",
    "        results.append({\n",
    "            'rnn_type': rnn_type,\n",
    "            'num_layers': num_layers,\n",
    "            'num_units': num_units,\n",
    "            'bidirectional': bidirectional,\n",
    "            'batch_size': batch_size,\n",
    "            'dropout': dropout,\n",
    "            'learning_rate': learning_rate,\n",
    "            'optimizer': optimizer_name,\n",
    "            'val_loss': val_metrics[0],\n",
    "            'val_accuracy': val_metrics[1],\n",
    "            'val_f1_macro': val_f1\n",
    "        })\n",
    "    \n",
    "    return results"
   ]
  },
  {
   "cell_type": "markdown",
   "metadata": {},
   "source": [
    "### Running Experiments"
   ]
  },
  {
   "cell_type": "code",
   "execution_count": 28,
   "metadata": {},
   "outputs": [
    {
     "name": "stdout",
     "output_type": "stream",
     "text": [
      "Vocabulary size: 10000\n",
      "Embedding dimension: 300\n",
      "Maximum sequence length: 100\n"
     ]
    }
   ],
   "source": [
    "pipeline = Pipeline([\n",
    "    (\"clean\", textCleaner(text_column=\"tweet\")),\n",
    "    (\"vectorize\", Vectorizer(method=\"SEQUENCE_GLOVE\", text_column=\"tweet\", num_words=10000, max_len=100)),\n",
    "])\n",
    "\n",
    "X_train_clean = pipeline.fit_transform(train)\n",
    "y_train = train[\"label\"].values\n",
    "\n",
    "X_val_clean = pipeline.transform(val)\n",
    "y_val = val[\"label\"].values\n",
    "\n",
    "X_test_clean = pipeline.transform(test)\n",
    "y_test = test[\"label\"].values\n",
    "\n",
    "vectorizer = pipeline.named_steps[\"vectorize\"]\n",
    "embedding_matrix = vectorizer.embedding_matrix_\n",
    "vocab_size = min(len(vectorizer.tokenizer_.word_index) + 1, vectorizer.num_words)\n",
    "embedding_dim = vectorizer.vector_size\n",
    "max_len = vectorizer.max_len\n",
    "\n",
    "print(\"Vocabulary size:\", vocab_size)\n",
    "print(\"Embedding dimension:\", embedding_dim)\n",
    "print(\"Maximum sequence length:\", max_len)"
   ]
  },
  {
   "cell_type": "markdown",
   "metadata": {},
   "source": [
    "#### Tune hyperparamters"
   ]
  },
  {
   "cell_type": "code",
   "execution_count": 29,
   "metadata": {},
   "outputs": [
    {
     "name": "stdout",
     "output_type": "stream",
     "text": [
      "\n",
      "Training model with: RNN=rnn, Layers=1, Units=64, Bidirectional=True, Batch=32, Dropout=0.2, LR=0.001, Optimizer=adam\n",
      "Epoch 1/10\n",
      "690/690 [==============================] - 321s 458ms/step - loss: 0.2088 - accuracy: 0.9329 - val_loss: 0.1852 - val_accuracy: 0.9393\n",
      "Epoch 2/10\n",
      "690/690 [==============================] - 228s 330ms/step - loss: 0.1673 - accuracy: 0.9407 - val_loss: 0.1639 - val_accuracy: 0.9427\n",
      "Epoch 3/10\n",
      "690/690 [==============================] - 226s 328ms/step - loss: 0.1537 - accuracy: 0.9461 - val_loss: 0.1627 - val_accuracy: 0.9412\n",
      "Epoch 4/10\n",
      "690/690 [==============================] - 223s 324ms/step - loss: 0.1479 - accuracy: 0.9480 - val_loss: 0.1530 - val_accuracy: 0.9444\n",
      "Epoch 5/10\n",
      "690/690 [==============================] - 223s 323ms/step - loss: 0.1408 - accuracy: 0.9494 - val_loss: 0.1545 - val_accuracy: 0.9463\n",
      "Epoch 6/10\n",
      "690/690 [==============================] - 226s 328ms/step - loss: 0.1336 - accuracy: 0.9501 - val_loss: 0.1501 - val_accuracy: 0.9459\n",
      "Epoch 7/10\n",
      "690/690 [==============================] - 234s 339ms/step - loss: 0.1269 - accuracy: 0.9549 - val_loss: 0.1567 - val_accuracy: 0.9474\n",
      "Epoch 8/10\n",
      "690/690 [==============================] - 246s 357ms/step - loss: 0.1237 - accuracy: 0.9555 - val_loss: 0.1606 - val_accuracy: 0.9486\n",
      "Epoch 9/10\n",
      "690/690 [==============================] - 226s 328ms/step - loss: 0.1189 - accuracy: 0.9579 - val_loss: 0.1572 - val_accuracy: 0.9410\n",
      "Epoch 10/10\n",
      "690/690 [==============================] - 225s 326ms/step - loss: 0.1299 - accuracy: 0.9551 - val_loss: 0.1583 - val_accuracy: 0.9461\n",
      "148/148 [==============================] - 6s 41ms/step\n",
      "\n",
      "Training model with: RNN=lstm, Layers=1, Units=64, Bidirectional=False, Batch=32, Dropout=0.2, LR=0.001, Optimizer=adam\n",
      "Epoch 1/10\n",
      "690/690 [==============================] - 9s 11ms/step - loss: 0.2627 - accuracy: 0.9300 - val_loss: 0.2566 - val_accuracy: 0.9292\n",
      "Epoch 2/10\n",
      "690/690 [==============================] - 8s 11ms/step - loss: 0.2540 - accuracy: 0.9301 - val_loss: 0.2561 - val_accuracy: 0.9292\n",
      "Epoch 3/10\n",
      "690/690 [==============================] - 8s 12ms/step - loss: 0.2541 - accuracy: 0.9301 - val_loss: 0.2561 - val_accuracy: 0.9292\n",
      "Epoch 4/10\n",
      "690/690 [==============================] - 8s 11ms/step - loss: 0.2540 - accuracy: 0.9301 - val_loss: 0.2561 - val_accuracy: 0.9292\n",
      "Epoch 5/10\n",
      "690/690 [==============================] - 7s 11ms/step - loss: 0.2537 - accuracy: 0.9301 - val_loss: 0.2559 - val_accuracy: 0.9292\n",
      "Epoch 6/10\n",
      "690/690 [==============================] - 7s 10ms/step - loss: 0.2537 - accuracy: 0.9301 - val_loss: 0.2568 - val_accuracy: 0.9292\n",
      "Epoch 7/10\n",
      "690/690 [==============================] - 7s 10ms/step - loss: 0.2538 - accuracy: 0.9301 - val_loss: 0.2558 - val_accuracy: 0.9292\n",
      "Epoch 8/10\n",
      "690/690 [==============================] - 7s 10ms/step - loss: 0.2538 - accuracy: 0.9301 - val_loss: 0.2560 - val_accuracy: 0.9292\n",
      "Epoch 9/10\n",
      "690/690 [==============================] - 7s 10ms/step - loss: 0.2538 - accuracy: 0.9301 - val_loss: 0.2561 - val_accuracy: 0.9292\n",
      "Epoch 10/10\n",
      "690/690 [==============================] - 7s 10ms/step - loss: 0.2536 - accuracy: 0.9301 - val_loss: 0.2567 - val_accuracy: 0.9292\n",
      "148/148 [==============================] - 1s 4ms/step\n",
      "\n",
      "Training model with: RNN=gru, Layers=1, Units=64, Bidirectional=False, Batch=32, Dropout=0.2, LR=0.001, Optimizer=adam\n",
      "Epoch 1/10\n",
      "690/690 [==============================] - 9s 11ms/step - loss: 0.2665 - accuracy: 0.9301 - val_loss: 0.2598 - val_accuracy: 0.9292\n",
      "Epoch 2/10\n",
      "690/690 [==============================] - 7s 10ms/step - loss: 0.2552 - accuracy: 0.9301 - val_loss: 0.2568 - val_accuracy: 0.9292\n",
      "Epoch 3/10\n",
      "690/690 [==============================] - 7s 9ms/step - loss: 0.2545 - accuracy: 0.9301 - val_loss: 0.2584 - val_accuracy: 0.9292\n",
      "Epoch 4/10\n",
      "690/690 [==============================] - 7s 10ms/step - loss: 0.2543 - accuracy: 0.9301 - val_loss: 0.2566 - val_accuracy: 0.9292\n",
      "Epoch 5/10\n",
      "690/690 [==============================] - 7s 10ms/step - loss: 0.2546 - accuracy: 0.9301 - val_loss: 0.2572 - val_accuracy: 0.9292\n",
      "Epoch 6/10\n",
      "690/690 [==============================] - 7s 10ms/step - loss: 0.2540 - accuracy: 0.9301 - val_loss: 0.2558 - val_accuracy: 0.9292\n",
      "Epoch 7/10\n",
      "690/690 [==============================] - 7s 10ms/step - loss: 0.2543 - accuracy: 0.9301 - val_loss: 0.2559 - val_accuracy: 0.9292\n",
      "Epoch 8/10\n",
      "690/690 [==============================] - 7s 10ms/step - loss: 0.2542 - accuracy: 0.9301 - val_loss: 0.2563 - val_accuracy: 0.9292\n",
      "Epoch 9/10\n",
      "690/690 [==============================] - 7s 10ms/step - loss: 0.2538 - accuracy: 0.9301 - val_loss: 0.2565 - val_accuracy: 0.9292\n",
      "Epoch 10/10\n",
      "690/690 [==============================] - 7s 10ms/step - loss: 0.2540 - accuracy: 0.9301 - val_loss: 0.2563 - val_accuracy: 0.9292\n",
      "148/148 [==============================] - 1s 3ms/step\n",
      "\n",
      "Training model with: RNN=lstm, Layers=2, Units=64, Bidirectional=False, Batch=32, Dropout=0.2, LR=0.001, Optimizer=adam\n",
      "Epoch 1/10\n",
      "690/690 [==============================] - 14s 17ms/step - loss: 0.2607 - accuracy: 0.9291 - val_loss: 0.2564 - val_accuracy: 0.9292\n",
      "Epoch 2/10\n",
      "690/690 [==============================] - 11s 16ms/step - loss: 0.2540 - accuracy: 0.9301 - val_loss: 0.2558 - val_accuracy: 0.9292\n",
      "Epoch 3/10\n",
      "690/690 [==============================] - 11s 16ms/step - loss: 0.2538 - accuracy: 0.9301 - val_loss: 0.2558 - val_accuracy: 0.9292\n",
      "Epoch 4/10\n",
      "690/690 [==============================] - 11s 16ms/step - loss: 0.2539 - accuracy: 0.9301 - val_loss: 0.2558 - val_accuracy: 0.9292\n",
      "Epoch 5/10\n",
      "690/690 [==============================] - 11s 16ms/step - loss: 0.2541 - accuracy: 0.9301 - val_loss: 0.2558 - val_accuracy: 0.9292\n",
      "Epoch 6/10\n",
      "690/690 [==============================] - 11s 17ms/step - loss: 0.2538 - accuracy: 0.9301 - val_loss: 0.2558 - val_accuracy: 0.9292\n",
      "Epoch 7/10\n",
      "690/690 [==============================] - 11s 17ms/step - loss: 0.2546 - accuracy: 0.9296 - val_loss: 0.2558 - val_accuracy: 0.9292\n",
      "Epoch 8/10\n",
      "690/690 [==============================] - 12s 17ms/step - loss: 0.2536 - accuracy: 0.9301 - val_loss: 0.2570 - val_accuracy: 0.9292\n",
      "Epoch 9/10\n",
      "690/690 [==============================] - 12s 17ms/step - loss: 0.2539 - accuracy: 0.9301 - val_loss: 0.2559 - val_accuracy: 0.9292\n",
      "Epoch 10/10\n",
      "690/690 [==============================] - 12s 18ms/step - loss: 0.2540 - accuracy: 0.9300 - val_loss: 0.2579 - val_accuracy: 0.9292\n",
      "148/148 [==============================] - 2s 7ms/step\n",
      "\n",
      "Training model with: RNN=lstm, Layers=1, Units=128, Bidirectional=False, Batch=32, Dropout=0.2, LR=0.001, Optimizer=adam\n",
      "Epoch 1/10\n",
      "690/690 [==============================] - 13s 17ms/step - loss: 0.2615 - accuracy: 0.9297 - val_loss: 0.2564 - val_accuracy: 0.9292\n",
      "Epoch 2/10\n",
      "690/690 [==============================] - 11s 16ms/step - loss: 0.2543 - accuracy: 0.9301 - val_loss: 0.2556 - val_accuracy: 0.9292\n",
      "Epoch 3/10\n",
      "690/690 [==============================] - 11s 16ms/step - loss: 0.2542 - accuracy: 0.9301 - val_loss: 0.2561 - val_accuracy: 0.9292\n",
      "Epoch 4/10\n",
      "690/690 [==============================] - 11s 16ms/step - loss: 0.2536 - accuracy: 0.9301 - val_loss: 0.2564 - val_accuracy: 0.9292\n",
      "Epoch 5/10\n",
      "690/690 [==============================] - 10s 15ms/step - loss: 0.2537 - accuracy: 0.9301 - val_loss: 0.2575 - val_accuracy: 0.9292\n",
      "Epoch 6/10\n",
      "690/690 [==============================] - 11s 15ms/step - loss: 0.2538 - accuracy: 0.9301 - val_loss: 0.2555 - val_accuracy: 0.9292\n",
      "Epoch 7/10\n",
      "690/690 [==============================] - 11s 15ms/step - loss: 0.2540 - accuracy: 0.9301 - val_loss: 0.2521 - val_accuracy: 0.9292\n",
      "Epoch 8/10\n",
      "690/690 [==============================] - 10s 15ms/step - loss: 0.2503 - accuracy: 0.9301 - val_loss: 0.2505 - val_accuracy: 0.9292\n",
      "Epoch 9/10\n",
      "690/690 [==============================] - 10s 15ms/step - loss: 0.2494 - accuracy: 0.9301 - val_loss: 0.2542 - val_accuracy: 0.9292\n",
      "Epoch 10/10\n",
      "690/690 [==============================] - 10s 15ms/step - loss: 0.2491 - accuracy: 0.9301 - val_loss: 0.2560 - val_accuracy: 0.9292\n",
      "148/148 [==============================] - 1s 5ms/step\n",
      "\n",
      "Training model with: RNN=lstm, Layers=1, Units=64, Bidirectional=True, Batch=32, Dropout=0.2, LR=0.001, Optimizer=adam\n",
      "Epoch 1/10\n",
      "690/690 [==============================] - 16s 19ms/step - loss: 0.1754 - accuracy: 0.9404 - val_loss: 0.1460 - val_accuracy: 0.9503\n",
      "Epoch 2/10\n",
      "690/690 [==============================] - 12s 18ms/step - loss: 0.1341 - accuracy: 0.9523 - val_loss: 0.1342 - val_accuracy: 0.9533\n",
      "Epoch 3/10\n",
      "690/690 [==============================] - 12s 18ms/step - loss: 0.1147 - accuracy: 0.9579 - val_loss: 0.1292 - val_accuracy: 0.9548\n",
      "Epoch 4/10\n",
      "690/690 [==============================] - 12s 18ms/step - loss: 0.1026 - accuracy: 0.9631 - val_loss: 0.1310 - val_accuracy: 0.9560\n",
      "Epoch 5/10\n",
      "690/690 [==============================] - 12s 18ms/step - loss: 0.0874 - accuracy: 0.9686 - val_loss: 0.1243 - val_accuracy: 0.9564\n",
      "Epoch 6/10\n",
      "690/690 [==============================] - 12s 18ms/step - loss: 0.0747 - accuracy: 0.9733 - val_loss: 0.1348 - val_accuracy: 0.9564\n",
      "Epoch 7/10\n",
      "690/690 [==============================] - 12s 18ms/step - loss: 0.0620 - accuracy: 0.9788 - val_loss: 0.1400 - val_accuracy: 0.9594\n",
      "Epoch 8/10\n",
      "690/690 [==============================] - 13s 19ms/step - loss: 0.0513 - accuracy: 0.9825 - val_loss: 0.1568 - val_accuracy: 0.9526\n",
      "Epoch 9/10\n",
      "690/690 [==============================] - 13s 18ms/step - loss: 0.0443 - accuracy: 0.9851 - val_loss: 0.1671 - val_accuracy: 0.9541\n",
      "Epoch 10/10\n",
      "690/690 [==============================] - 12s 18ms/step - loss: 0.0389 - accuracy: 0.9861 - val_loss: 0.1869 - val_accuracy: 0.9543\n",
      "148/148 [==============================] - 1s 6ms/step\n",
      "\n",
      "Training model with: RNN=lstm, Layers=1, Units=64, Bidirectional=False, Batch=64, Dropout=0.2, LR=0.001, Optimizer=adam\n",
      "Epoch 1/10\n",
      "345/345 [==============================] - 6s 14ms/step - loss: 0.2705 - accuracy: 0.9291 - val_loss: 0.2569 - val_accuracy: 0.9292\n",
      "Epoch 2/10\n",
      "345/345 [==============================] - 4s 12ms/step - loss: 0.2540 - accuracy: 0.9301 - val_loss: 0.2558 - val_accuracy: 0.9292\n",
      "Epoch 3/10\n",
      "345/345 [==============================] - 4s 12ms/step - loss: 0.2541 - accuracy: 0.9301 - val_loss: 0.2559 - val_accuracy: 0.9292\n",
      "Epoch 4/10\n",
      "345/345 [==============================] - 4s 12ms/step - loss: 0.2540 - accuracy: 0.9301 - val_loss: 0.2561 - val_accuracy: 0.9292\n",
      "Epoch 5/10\n",
      "345/345 [==============================] - 4s 13ms/step - loss: 0.2538 - accuracy: 0.9301 - val_loss: 0.2561 - val_accuracy: 0.9292\n",
      "Epoch 6/10\n",
      "345/345 [==============================] - 4s 13ms/step - loss: 0.2538 - accuracy: 0.9301 - val_loss: 0.2558 - val_accuracy: 0.9292\n",
      "Epoch 7/10\n",
      "345/345 [==============================] - 4s 12ms/step - loss: 0.2538 - accuracy: 0.9301 - val_loss: 0.2571 - val_accuracy: 0.9292\n",
      "148/148 [==============================] - 1s 4ms/step\n",
      "\n",
      "Training model with: RNN=lstm, Layers=1, Units=64, Bidirectional=False, Batch=32, Dropout=0.3, LR=0.001, Optimizer=adam\n",
      "Epoch 1/10\n",
      "690/690 [==============================] - 9s 11ms/step - loss: 0.2634 - accuracy: 0.9299 - val_loss: 0.2563 - val_accuracy: 0.9292\n",
      "Epoch 2/10\n",
      "690/690 [==============================] - 7s 10ms/step - loss: 0.2546 - accuracy: 0.9300 - val_loss: 0.2588 - val_accuracy: 0.9292\n",
      "Epoch 3/10\n",
      "690/690 [==============================] - 7s 10ms/step - loss: 0.2541 - accuracy: 0.9301 - val_loss: 0.2564 - val_accuracy: 0.9292\n",
      "Epoch 4/10\n",
      "690/690 [==============================] - 7s 10ms/step - loss: 0.2538 - accuracy: 0.9301 - val_loss: 0.2567 - val_accuracy: 0.9292\n",
      "Epoch 5/10\n",
      "690/690 [==============================] - 7s 10ms/step - loss: 0.2538 - accuracy: 0.9301 - val_loss: 0.2561 - val_accuracy: 0.9292\n",
      "Epoch 6/10\n",
      "690/690 [==============================] - 7s 10ms/step - loss: 0.2538 - accuracy: 0.9301 - val_loss: 0.2558 - val_accuracy: 0.9292\n",
      "Epoch 7/10\n",
      "690/690 [==============================] - 7s 10ms/step - loss: 0.2515 - accuracy: 0.9301 - val_loss: 0.2532 - val_accuracy: 0.9292\n",
      "Epoch 8/10\n",
      "690/690 [==============================] - 7s 11ms/step - loss: 0.2498 - accuracy: 0.9300 - val_loss: 0.2535 - val_accuracy: 0.9292\n",
      "Epoch 9/10\n",
      "690/690 [==============================] - 8s 11ms/step - loss: 0.2499 - accuracy: 0.9301 - val_loss: 0.2544 - val_accuracy: 0.9292\n",
      "Epoch 10/10\n",
      "690/690 [==============================] - 7s 11ms/step - loss: 0.2503 - accuracy: 0.9301 - val_loss: 0.2535 - val_accuracy: 0.9292\n",
      "148/148 [==============================] - 1s 4ms/step\n",
      "\n",
      "Training model with: RNN=lstm, Layers=1, Units=64, Bidirectional=True, Batch=32, Dropout=0.2, LR=0.01, Optimizer=adam\n",
      "Epoch 1/10\n",
      "690/690 [==============================] - 15s 18ms/step - loss: 0.1714 - accuracy: 0.9404 - val_loss: 0.1441 - val_accuracy: 0.9493\n",
      "Epoch 2/10\n",
      "690/690 [==============================] - 12s 17ms/step - loss: 0.1291 - accuracy: 0.9544 - val_loss: 0.1331 - val_accuracy: 0.9520\n",
      "Epoch 3/10\n",
      "690/690 [==============================] - 12s 17ms/step - loss: 0.1130 - accuracy: 0.9595 - val_loss: 0.1341 - val_accuracy: 0.9539\n",
      "Epoch 4/10\n",
      "690/690 [==============================] - 12s 17ms/step - loss: 0.1009 - accuracy: 0.9645 - val_loss: 0.1368 - val_accuracy: 0.9539\n",
      "Epoch 5/10\n",
      "690/690 [==============================] - 12s 17ms/step - loss: 0.0920 - accuracy: 0.9676 - val_loss: 0.1444 - val_accuracy: 0.9524\n",
      "Epoch 6/10\n",
      "690/690 [==============================] - 12s 17ms/step - loss: 0.0866 - accuracy: 0.9687 - val_loss: 0.1553 - val_accuracy: 0.9541\n",
      "Epoch 7/10\n",
      "690/690 [==============================] - 12s 17ms/step - loss: 0.0782 - accuracy: 0.9725 - val_loss: 0.1527 - val_accuracy: 0.9569\n",
      "148/148 [==============================] - 2s 7ms/step\n",
      "\n",
      "Training model with: RNN=lstm, Layers=1, Units=64, Bidirectional=False, Batch=32, Dropout=0.2, LR=0.001, Optimizer=rmsprop\n",
      "Epoch 1/10\n",
      "690/690 [==============================] - 11s 14ms/step - loss: 0.2581 - accuracy: 0.9296 - val_loss: 0.2576 - val_accuracy: 0.9292\n",
      "Epoch 2/10\n",
      "690/690 [==============================] - 8s 12ms/step - loss: 0.2543 - accuracy: 0.9301 - val_loss: 0.2576 - val_accuracy: 0.9292\n",
      "Epoch 3/10\n",
      "690/690 [==============================] - 8s 12ms/step - loss: 0.2542 - accuracy: 0.9301 - val_loss: 0.2558 - val_accuracy: 0.9292\n",
      "Epoch 4/10\n",
      "690/690 [==============================] - 8s 12ms/step - loss: 0.2545 - accuracy: 0.9301 - val_loss: 0.2558 - val_accuracy: 0.9292\n",
      "Epoch 5/10\n",
      "690/690 [==============================] - 8s 12ms/step - loss: 0.2541 - accuracy: 0.9301 - val_loss: 0.2569 - val_accuracy: 0.9292\n",
      "Epoch 6/10\n",
      "690/690 [==============================] - 8s 12ms/step - loss: 0.2541 - accuracy: 0.9301 - val_loss: 0.2577 - val_accuracy: 0.9292\n",
      "Epoch 7/10\n",
      "690/690 [==============================] - 8s 12ms/step - loss: 0.2540 - accuracy: 0.9301 - val_loss: 0.2570 - val_accuracy: 0.9292\n",
      "Epoch 8/10\n",
      "690/690 [==============================] - 9s 12ms/step - loss: 0.2539 - accuracy: 0.9301 - val_loss: 0.2558 - val_accuracy: 0.9292\n",
      "Epoch 9/10\n",
      "690/690 [==============================] - 9s 13ms/step - loss: 0.2540 - accuracy: 0.9301 - val_loss: 0.2562 - val_accuracy: 0.9292\n",
      "148/148 [==============================] - 1s 4ms/step\n",
      "\n",
      "Training model with: RNN=gru, Layers=2, Units=128, Bidirectional=True, Batch=64, Dropout=0.3, LR=0.001, Optimizer=adam\n",
      "Epoch 1/10\n",
      "345/345 [==============================] - 24s 56ms/step - loss: 0.1748 - accuracy: 0.9415 - val_loss: 0.1433 - val_accuracy: 0.9482\n",
      "Epoch 2/10\n",
      "345/345 [==============================] - 18s 53ms/step - loss: 0.1348 - accuracy: 0.9530 - val_loss: 0.1335 - val_accuracy: 0.9533\n",
      "Epoch 3/10\n",
      "345/345 [==============================] - 19s 54ms/step - loss: 0.1192 - accuracy: 0.9578 - val_loss: 0.1366 - val_accuracy: 0.9558\n",
      "Epoch 4/10\n",
      "345/345 [==============================] - 19s 54ms/step - loss: 0.1047 - accuracy: 0.9634 - val_loss: 0.1301 - val_accuracy: 0.9548\n",
      "Epoch 5/10\n",
      "345/345 [==============================] - 19s 54ms/step - loss: 0.0949 - accuracy: 0.9656 - val_loss: 0.1308 - val_accuracy: 0.9575\n",
      "Epoch 6/10\n",
      "345/345 [==============================] - 18s 53ms/step - loss: 0.0788 - accuracy: 0.9716 - val_loss: 0.1380 - val_accuracy: 0.9594\n",
      "Epoch 7/10\n",
      "345/345 [==============================] - 19s 54ms/step - loss: 0.0693 - accuracy: 0.9753 - val_loss: 0.1452 - val_accuracy: 0.9560\n",
      "Epoch 8/10\n",
      "345/345 [==============================] - 19s 54ms/step - loss: 0.0569 - accuracy: 0.9792 - val_loss: 0.1575 - val_accuracy: 0.9569\n",
      "Epoch 9/10\n",
      "345/345 [==============================] - 19s 55ms/step - loss: 0.0461 - accuracy: 0.9844 - val_loss: 0.1736 - val_accuracy: 0.9567\n",
      "148/148 [==============================] - 3s 14ms/step\n"
     ]
    }
   ],
   "source": [
    "results = hyperparameter_tuning(X_train_clean, y_train, X_val_clean, y_val, vocab_size, embedding_dim, max_len, embedding_matrix)"
   ]
  },
  {
   "cell_type": "code",
   "execution_count": 41,
   "metadata": {},
   "outputs": [
    {
     "name": "stdout",
     "output_type": "stream",
     "text": [
      "model 0: acc = 0.9461, macro f1 = 0.7429\n",
      "model 1: acc = 0.9292, macro f1 = 0.4816\n",
      "model 2: acc = 0.9292, macro f1 = 0.4816\n",
      "model 3: acc = 0.9292, macro f1 = 0.4816\n",
      "model 4: acc = 0.9292, macro f1 = 0.4816\n",
      "model 5: acc = 0.9564, macro f1 = 0.7984\n",
      "model 6: acc = 0.9292, macro f1 = 0.4816\n",
      "model 7: acc = 0.9292, macro f1 = 0.4816\n",
      "model 8: acc = 0.9520, macro f1 = 0.7945\n",
      "model 9: acc = 0.9292, macro f1 = 0.4816\n",
      "model 10: acc = 0.9548, macro f1 = 0.8022\n"
     ]
    },
    {
     "data": {
      "image/png": "[encoded data removed]",
      "text/plain": [
       "<Figure size 1000x500 with 1 Axes>"
      ]
     },
     "metadata": {},
     "output_type": "display_data"
    }
   ],
   "source": [
    "for i,result in enumerate(results):\n",
    "    print(f\"model {i}: acc = {result['val_accuracy']:.4f}, macro f1 = {result['val_f1_macro']:.4f}\")\n",
    "\n",
    "results_df = pd.DataFrame(results)\n",
    "\n",
    "results_df['config_label'] = [f\"Model {i}\" for i in range(len(results_df))]\n",
    "\n",
    "\n",
    "x = np.arange(len(results_df))\n",
    "width = 0.35\n",
    "fig, ax = plt.subplots(figsize=(10, 5))\n",
    "bars1 = ax.bar(x - width/2, results_df['val_accuracy'], width, label='Val Accuracy')\n",
    "bars2 = ax.bar(x + width/2, results_df['val_f1_macro'], width, label='Val F1 Macro')\n",
    "ax.set_ylabel('Score')\n",
    "ax.set_title('Validation Accuracy vs F1 Score by Config')\n",
    "ax.set_xticks(x)\n",
    "ax.set_xticklabels(results_df['config_label'], rotation=45, ha='right')\n",
    "ax.legend()\n",
    "\n",
    "for bars in [bars1, bars2]:\n",
    "    for bar in bars:\n",
    "        height = bar.get_height()\n",
    "        ax.annotate(f'{height:.2f}', xy=(bar.get_x() + bar.get_width() / 2, height),\n",
    "                    xytext=(0, 3), textcoords=\"offset points\", ha='center', fontsize=8)\n",
    "\n",
    "plt.tight_layout()\n",
    "plt.show()\n"
   ]
  },
  {
   "cell_type": "markdown",
   "metadata": {},
   "source": [
    "- Models, 0, 5, 8, 10 get best amcro f1 scores (when bidirectional is True)\n",
    "- We will contiune to tune model 5"
   ]
  },
  {
   "cell_type": "code",
   "execution_count": 31,
   "metadata": {},
   "outputs": [
    {
     "data": {
      "text/plain": [
       "{'rnn_type': 'lstm',\n",
       " 'num_layers': 1,\n",
       " 'num_units': 64,\n",
       " 'bidirectional': True,\n",
       " 'batch_size': 32,\n",
       " 'dropout': 0.2,\n",
       " 'learning_rate': 0.001,\n",
       " 'optimizer': 'adam',\n",
       " 'val_loss': 0.12433173507452011,\n",
       " 'val_accuracy': 0.9564481973648071,\n",
       " 'val_f1_macro': 0.7984134248160154}"
      ]
     },
     "execution_count": 31,
     "metadata": {},
     "output_type": "execute_result"
    }
   ],
   "source": [
    "best_config = results[5]\n",
    "best_config"
   ]
  },
  {
   "cell_type": "markdown",
   "metadata": {},
   "source": [
    "#### Tune Architectures"
   ]
  },
  {
   "cell_type": "markdown",
   "metadata": {},
   "source": [
    "we will use the best hyperparamters and test it on different architectures (RNN, LSTM, GRU)"
   ]
  },
  {
   "cell_type": "code",
   "execution_count": 58,
   "metadata": {},
   "outputs": [
    {
     "name": "stdout",
     "output_type": "stream",
     "text": [
      "\n",
      "Training RNN model...\n",
      "Epoch 1/10\n",
      "690/690 [==============================] - 219s 316ms/step - loss: 0.1947 - accuracy: 0.9350 - val_loss: 0.1690 - val_accuracy: 0.9381\n",
      "Epoch 2/10\n",
      "690/690 [==============================] - 235s 340ms/step - loss: 0.1617 - accuracy: 0.9418 - val_loss: 0.1648 - val_accuracy: 0.9427\n",
      "Epoch 3/10\n",
      "690/690 [==============================] - 243s 353ms/step - loss: 0.1491 - accuracy: 0.9451 - val_loss: 0.1871 - val_accuracy: 0.9431\n",
      "Epoch 4/10\n",
      "690/690 [==============================] - 233s 338ms/step - loss: 0.1410 - accuracy: 0.9508 - val_loss: 0.1699 - val_accuracy: 0.9446\n",
      "Epoch 5/10\n",
      "690/690 [==============================] - 229s 332ms/step - loss: 0.1539 - accuracy: 0.9467 - val_loss: 0.1707 - val_accuracy: 0.9448\n",
      "Epoch 6/10\n",
      "690/690 [==============================] - 231s 335ms/step - loss: 0.1353 - accuracy: 0.9511 - val_loss: 0.1611 - val_accuracy: 0.9471\n",
      "Epoch 7/10\n",
      "690/690 [==============================] - 231s 334ms/step - loss: 0.1215 - accuracy: 0.9575 - val_loss: 0.1613 - val_accuracy: 0.9469\n",
      "Epoch 8/10\n",
      "690/690 [==============================] - 225s 327ms/step - loss: 0.1157 - accuracy: 0.9593 - val_loss: 0.1985 - val_accuracy: 0.9457\n",
      "Epoch 9/10\n",
      "690/690 [==============================] - 227s 329ms/step - loss: 0.1096 - accuracy: 0.9599 - val_loss: 0.1841 - val_accuracy: 0.9471\n",
      "Epoch 10/10\n",
      "690/690 [==============================] - 232s 336ms/step - loss: 0.1041 - accuracy: 0.9635 - val_loss: 0.1856 - val_accuracy: 0.9484\n",
      "148/148 [==============================] - 7s 46ms/step\n",
      "\n",
      "Training LSTM model...\n",
      "Epoch 1/10\n",
      "690/690 [==============================] - 15s 19ms/step - loss: 0.1743 - accuracy: 0.9406 - val_loss: 0.1435 - val_accuracy: 0.9488\n",
      "Epoch 2/10\n",
      "690/690 [==============================] - 12s 18ms/step - loss: 0.1312 - accuracy: 0.9530 - val_loss: 0.1406 - val_accuracy: 0.9503\n",
      "Epoch 3/10\n",
      "690/690 [==============================] - 12s 18ms/step - loss: 0.1138 - accuracy: 0.9594 - val_loss: 0.1340 - val_accuracy: 0.9556\n",
      "Epoch 4/10\n",
      "690/690 [==============================] - 12s 18ms/step - loss: 0.0999 - accuracy: 0.9643 - val_loss: 0.1288 - val_accuracy: 0.9558\n",
      "Epoch 5/10\n",
      "690/690 [==============================] - 12s 18ms/step - loss: 0.0828 - accuracy: 0.9704 - val_loss: 0.1301 - val_accuracy: 0.9564\n",
      "Epoch 6/10\n",
      "690/690 [==============================] - 12s 18ms/step - loss: 0.0717 - accuracy: 0.9739 - val_loss: 0.1328 - val_accuracy: 0.9579\n",
      "Epoch 7/10\n",
      "690/690 [==============================] - 12s 18ms/step - loss: 0.0588 - accuracy: 0.9799 - val_loss: 0.1517 - val_accuracy: 0.9552\n",
      "Epoch 8/10\n",
      "690/690 [==============================] - 12s 17ms/step - loss: 0.0498 - accuracy: 0.9832 - val_loss: 0.1459 - val_accuracy: 0.9577\n",
      "Epoch 9/10\n",
      "690/690 [==============================] - 12s 17ms/step - loss: 0.0402 - accuracy: 0.9867 - val_loss: 0.1779 - val_accuracy: 0.9562\n",
      "Epoch 10/10\n",
      "690/690 [==============================] - 12s 17ms/step - loss: 0.0331 - accuracy: 0.9885 - val_loss: 0.1843 - val_accuracy: 0.9575\n",
      "148/148 [==============================] - 1s 6ms/step\n",
      "\n",
      "Training GRU model...\n",
      "Epoch 1/10\n",
      "690/690 [==============================] - 15s 17ms/step - loss: 0.1767 - accuracy: 0.9413 - val_loss: 0.1444 - val_accuracy: 0.9488\n",
      "Epoch 2/10\n",
      "690/690 [==============================] - 11s 16ms/step - loss: 0.1311 - accuracy: 0.9530 - val_loss: 0.1366 - val_accuracy: 0.9535\n",
      "Epoch 3/10\n",
      "690/690 [==============================] - 11s 17ms/step - loss: 0.1124 - accuracy: 0.9602 - val_loss: 0.1328 - val_accuracy: 0.9560\n",
      "Epoch 4/10\n",
      "690/690 [==============================] - 12s 17ms/step - loss: 0.0984 - accuracy: 0.9652 - val_loss: 0.1511 - val_accuracy: 0.9554\n",
      "Epoch 5/10\n",
      "690/690 [==============================] - 12s 17ms/step - loss: 0.0853 - accuracy: 0.9691 - val_loss: 0.1365 - val_accuracy: 0.9529\n",
      "Epoch 6/10\n",
      "690/690 [==============================] - 12s 17ms/step - loss: 0.0721 - accuracy: 0.9750 - val_loss: 0.1322 - val_accuracy: 0.9567\n",
      "Epoch 7/10\n",
      "690/690 [==============================] - 12s 17ms/step - loss: 0.0589 - accuracy: 0.9792 - val_loss: 0.1603 - val_accuracy: 0.9564\n",
      "Epoch 8/10\n",
      "690/690 [==============================] - 12s 18ms/step - loss: 0.0523 - accuracy: 0.9811 - val_loss: 0.1460 - val_accuracy: 0.9564\n",
      "Epoch 9/10\n",
      "690/690 [==============================] - 12s 17ms/step - loss: 0.0407 - accuracy: 0.9856 - val_loss: 0.1674 - val_accuracy: 0.9575\n",
      "Epoch 10/10\n",
      "690/690 [==============================] - 12s 17ms/step - loss: 0.0344 - accuracy: 0.9882 - val_loss: 0.1780 - val_accuracy: 0.9554\n",
      "148/148 [==============================] - 2s 7ms/step\n"
     ]
    }
   ],
   "source": [
    "architectures = ['rnn', 'lstm', 'gru']\n",
    "arch_results = []\n",
    "\n",
    "for arch in architectures:\n",
    "    print(f\"\\nTraining {arch.upper()} model...\")\n",
    "    final_model = create_rnn_model(vocab_size=vocab_size, embedding_dim=embedding_dim, max_len=max_len, embedding_matrix=embedding_matrix, rnn_type=arch, num_layers=best_config['num_layers'],\n",
    "        num_units=best_config['num_units'], bidirectional=best_config['bidirectional'],dropout=best_config['dropout'])\n",
    "    \n",
    "    early_stopping = EarlyStopping(monitor='val_loss', patience=5,restore_best_weights=True)\n",
    "    final_model.compile(optimizer=best_config['optimizer'], loss='binary_crossentropy', metrics=['accuracy'])\n",
    "\n",
    "    history, val_metrics = train_evaluate_model(final_model, X_train_clean, y_train, X_val_clean, y_val, epochs=10, batch_size=best_config['batch_size'])\n",
    "    \n",
    "    val_f1 = calculate_f1_score(final_model, X_val_clean, y_val)\n",
    "    \n",
    "    arch_results.append({\n",
    "        'architecture': arch,\n",
    "        'val_loss': val_metrics[0],\n",
    "        'val_accuracy': val_metrics[1],\n",
    "        'val_f1_macro': val_f1\n",
    "    })"
   ]
  },
  {
   "cell_type": "code",
   "execution_count": 59,
   "metadata": {},
   "outputs": [
    {
     "name": "stdout",
     "output_type": "stream",
     "text": [
      "model 0: acc = 0.9484, macro f1 = 0.7472\n",
      "model 1: acc = 0.9575, macro f1 = 0.8063\n",
      "model 2: acc = 0.9554, macro f1 = 0.8148\n"
     ]
    },
    {
     "data": {
      "image/png": "[encoded data removed]",
      "text/plain": [
       "<Figure size 1000x500 with 1 Axes>"
      ]
     },
     "metadata": {},
     "output_type": "display_data"
    }
   ],
   "source": [
    "for i,result in enumerate(arch_results):\n",
    "    print(f\"model {i}: acc = {result['val_accuracy']:.4f}, macro f1 = {result['val_f1_macro']:.4f}\")\n",
    "\n",
    "arc_results_df = pd.DataFrame(arch_results)\n",
    "\n",
    "arc_results_df['config_label'] = [\"simple rnn\", 'lstm', \"gru\"]\n",
    "\n",
    "\n",
    "x = np.arange(len(arc_results_df))\n",
    "width = 0.35\n",
    "fig, ax = plt.subplots(figsize=(10, 5))\n",
    "bars1 = ax.bar(x - width/2, arc_results_df['val_accuracy'], width, label='Val Accuracy')\n",
    "bars2 = ax.bar(x + width/2, arc_results_df['val_f1_macro'], width, label='Val F1 Macro')\n",
    "ax.set_ylabel('Score')\n",
    "ax.set_title('Validation Accuracy vs F1 Score by Config')\n",
    "ax.set_xticks(x)\n",
    "ax.set_xticklabels(arc_results_df['config_label'], rotation=45, ha='right')\n",
    "ax.legend()\n",
    "\n",
    "for bars in [bars1, bars2]:\n",
    "    for bar in bars:\n",
    "        height = bar.get_height()\n",
    "        ax.annotate(f'{height:.2f}', xy=(bar.get_x() + bar.get_width() / 2, height),\n",
    "                    xytext=(0, 3), textcoords=\"offset points\", ha='center', fontsize=8)\n",
    "\n",
    "plt.tight_layout()\n",
    "plt.show()\n"
   ]
  },
  {
   "cell_type": "markdown",
   "metadata": {},
   "source": [
    "#### Tune Embeddings"
   ]
  },
  {
   "cell_type": "markdown",
   "metadata": {},
   "source": [
    "try best model we got till now with different embddedings"
   ]
  },
  {
   "cell_type": "code",
   "execution_count": 44,
   "metadata": {},
   "outputs": [
    {
     "name": "stdout",
     "output_type": "stream",
     "text": [
      "Vocabulary size: 10000\n",
      "Embedding dimension: 300\n",
      "Maximum sequence length: 100\n"
     ]
    }
   ],
   "source": [
    "pipeline = Pipeline([\n",
    "    (\"clean\", textCleaner(text_column=\"tweet\")),\n",
    "    (\"vectorize\", Vectorizer(method=\"SEQUENCE_GLOVE\", text_column=\"tweet\", num_words=10000, max_len=100)),\n",
    "])\n",
    "\n",
    "X_train_clean = pipeline.fit_transform(train)\n",
    "y_train = train[\"label\"].values\n",
    "\n",
    "X_val_clean = pipeline.transform(val)\n",
    "y_val = val[\"label\"].values\n",
    "\n",
    "X_test_clean = pipeline.transform(test)\n",
    "y_test = test[\"label\"].values\n",
    "\n",
    "vectorizer = pipeline.named_steps[\"vectorize\"]\n",
    "tokenizer = vectorizer.tokenizer_\n",
    "vocab_size = min(len(tokenizer.word_index) + 1, vectorizer.num_words)\n",
    "embedding_dim = vectorizer.vector_size\n",
    "max_len = vectorizer.max_len\n",
    "\n",
    "print(\"Vocabulary size:\", vocab_size)\n",
    "print(\"Embedding dimension:\", embedding_dim)\n",
    "print(\"Maximum sequence length:\", max_len)"
   ]
  },
  {
   "cell_type": "code",
   "execution_count": 55,
   "metadata": {},
   "outputs": [],
   "source": [
    "def build_embedding_matrix(word_index, embedding_dim, embeddings, num_words=10000):\n",
    "    embedding_matrix = np.zeros((num_words, embedding_dim))\n",
    "    for word, i in word_index.items():\n",
    "        if i >= num_words:\n",
    "            continue\n",
    "        if word in embeddings:\n",
    "            embedding_matrix[i] = embeddings[word]\n",
    "    return embedding_matrix\n",
    "\n",
    "\n",
    "def compare_embeddings(X_train, y_train, X_val, y_val, vocab_size, max_len, tokenizer, model_config):\n",
    "    results = []\n",
    "\n",
    "    embedding_configs = [\n",
    "        ('random', 200),\n",
    "        ('random', 300),\n",
    "        ('glove', 100),\n",
    "        ('glove', 300),\n",
    "        ('word2vec', 300),\n",
    "        ('fasttext', 300),\n",
    "    ]\n",
    "\n",
    "    for embedding_type, embedding_dim in embedding_configs:\n",
    "        print(f\"\\nTraining with embedding: Type={embedding_type}, Dim={embedding_dim}\")\n",
    "\n",
    "        embedding_matrix = None\n",
    "\n",
    "        if embedding_type == 'glove':\n",
    "            glove_name = f\"glove-wiki-gigaword-{embedding_dim}\"\n",
    "            embeddings = api.load(glove_name)\n",
    "            embedding_matrix = build_embedding_matrix(tokenizer.word_index, embedding_dim, embeddings, num_words=vocab_size)\n",
    "\n",
    "        elif embedding_type == 'word2vec':\n",
    "            embeddings = api.load(\"word2vec-google-news-300\")\n",
    "            embedding_matrix = build_embedding_matrix(tokenizer.word_index, embedding_dim, embeddings,  num_words=vocab_size)\n",
    "\n",
    "        elif embedding_type == 'fasttext':\n",
    "            embeddings = api.load(\"fasttext-wiki-news-subwords-300\")\n",
    "            embedding_matrix = build_embedding_matrix(tokenizer.word_index, embedding_dim, embeddings,  num_words=vocab_size)\n",
    "\n",
    "        model = create_rnn_model(\n",
    "            vocab_size=vocab_size,\n",
    "            embedding_dim=embedding_dim,\n",
    "            max_len=max_len,\n",
    "            embedding_matrix=embedding_matrix,\n",
    "            rnn_type=model_config['rnn_type'],\n",
    "            num_layers=model_config['num_layers'],\n",
    "            num_units=model_config['num_units'],\n",
    "            bidirectional=model_config['bidirectional'],\n",
    "            dropout=model_config['dropout'],\n",
    "            trainable_embedding=(embedding_type == 'random')\n",
    "        )\n",
    "\n",
    "        history, val_metrics = train_evaluate_model(\n",
    "            model=model,\n",
    "            X_train=X_train,\n",
    "            y_train=y_train,\n",
    "            X_val=X_val,\n",
    "            y_val=y_val,\n",
    "            batch_size=model_config['batch_size'],\n",
    "            epochs=10\n",
    "        )\n",
    "\n",
    "        val_f1 = calculate_f1_score(model, X_val, y_val)\n",
    "\n",
    "        results.append({\n",
    "            'embedding_type': embedding_type,\n",
    "            'embedding_dim': embedding_dim,\n",
    "            'val_loss': val_metrics[0],\n",
    "            'val_accuracy': val_metrics[1],\n",
    "            'val_f1_macro': val_f1\n",
    "        })\n",
    "\n",
    "    return results"
   ]
  },
  {
   "cell_type": "code",
   "execution_count": 56,
   "metadata": {},
   "outputs": [
    {
     "name": "stdout",
     "output_type": "stream",
     "text": [
      "\n",
      "Training with embedding: Type=random, Dim=200\n",
      "Epoch 1/10\n",
      "690/690 [==============================] - 18s 22ms/step - loss: 0.1671 - accuracy: 0.9466 - val_loss: 0.1225 - val_accuracy: 0.9579\n",
      "Epoch 2/10\n",
      "690/690 [==============================] - 13s 19ms/step - loss: 0.0794 - accuracy: 0.9726 - val_loss: 0.1215 - val_accuracy: 0.9571\n",
      "Epoch 3/10\n",
      "690/690 [==============================] - 13s 19ms/step - loss: 0.0461 - accuracy: 0.9849 - val_loss: 0.1450 - val_accuracy: 0.9573\n",
      "Epoch 4/10\n",
      "690/690 [==============================] - 14s 20ms/step - loss: 0.0247 - accuracy: 0.9920 - val_loss: 0.1849 - val_accuracy: 0.9552\n",
      "Epoch 5/10\n",
      "690/690 [==============================] - 14s 20ms/step - loss: 0.0158 - accuracy: 0.9949 - val_loss: 0.2030 - val_accuracy: 0.9562\n",
      "Epoch 6/10\n",
      "690/690 [==============================] - 13s 19ms/step - loss: 0.0102 - accuracy: 0.9965 - val_loss: 0.2330 - val_accuracy: 0.9514\n",
      "Epoch 7/10\n",
      "690/690 [==============================] - 13s 20ms/step - loss: 0.0066 - accuracy: 0.9974 - val_loss: 0.2836 - val_accuracy: 0.9478\n",
      "Epoch 8/10\n",
      "690/690 [==============================] - 13s 20ms/step - loss: 0.0063 - accuracy: 0.9979 - val_loss: 0.2831 - val_accuracy: 0.9514\n",
      "Epoch 9/10\n",
      "690/690 [==============================] - 14s 20ms/step - loss: 0.0053 - accuracy: 0.9984 - val_loss: 0.3052 - val_accuracy: 0.9474\n",
      "Epoch 10/10\n",
      "690/690 [==============================] - 14s 21ms/step - loss: 0.0028 - accuracy: 0.9990 - val_loss: 0.3288 - val_accuracy: 0.9476\n",
      "148/148 [==============================] - 2s 7ms/step\n",
      "\n",
      "Training with embedding: Type=random, Dim=300\n",
      "Epoch 1/10\n",
      "690/690 [==============================] - 20s 25ms/step - loss: 0.1651 - accuracy: 0.9477 - val_loss: 0.1264 - val_accuracy: 0.9548\n",
      "Epoch 2/10\n",
      "690/690 [==============================] - 16s 23ms/step - loss: 0.0750 - accuracy: 0.9738 - val_loss: 0.1311 - val_accuracy: 0.9615\n",
      "Epoch 3/10\n",
      "690/690 [==============================] - 16s 23ms/step - loss: 0.0411 - accuracy: 0.9863 - val_loss: 0.1405 - val_accuracy: 0.9577\n",
      "Epoch 4/10\n",
      "690/690 [==============================] - 16s 24ms/step - loss: 0.0215 - accuracy: 0.9932 - val_loss: 0.1862 - val_accuracy: 0.9596\n",
      "Epoch 5/10\n",
      "690/690 [==============================] - 16s 24ms/step - loss: 0.0122 - accuracy: 0.9961 - val_loss: 0.2137 - val_accuracy: 0.9592\n",
      "Epoch 6/10\n",
      "690/690 [==============================] - 17s 24ms/step - loss: 0.0057 - accuracy: 0.9980 - val_loss: 0.2496 - val_accuracy: 0.9524\n",
      "Epoch 7/10\n",
      "690/690 [==============================] - 16s 24ms/step - loss: 0.0060 - accuracy: 0.9978 - val_loss: 0.2795 - val_accuracy: 0.9556\n",
      "Epoch 8/10\n",
      "690/690 [==============================] - 17s 24ms/step - loss: 0.0039 - accuracy: 0.9987 - val_loss: 0.3310 - val_accuracy: 0.9564\n",
      "Epoch 9/10\n",
      "690/690 [==============================] - 16s 23ms/step - loss: 0.0029 - accuracy: 0.9991 - val_loss: 0.3241 - val_accuracy: 0.9505\n",
      "Epoch 10/10\n",
      "690/690 [==============================] - 16s 23ms/step - loss: 0.0020 - accuracy: 0.9993 - val_loss: 0.3489 - val_accuracy: 0.9543\n",
      "148/148 [==============================] - 1s 6ms/step\n",
      "\n",
      "Training with embedding: Type=glove, Dim=100\n",
      "Epoch 1/10\n",
      "690/690 [==============================] - 15s 19ms/step - loss: 0.1932 - accuracy: 0.9344 - val_loss: 0.1562 - val_accuracy: 0.9448\n",
      "Epoch 2/10\n",
      "690/690 [==============================] - 12s 18ms/step - loss: 0.1546 - accuracy: 0.9456 - val_loss: 0.1503 - val_accuracy: 0.9459\n",
      "Epoch 3/10\n",
      "690/690 [==============================] - 13s 19ms/step - loss: 0.1410 - accuracy: 0.9507 - val_loss: 0.1483 - val_accuracy: 0.9482\n",
      "Epoch 4/10\n",
      "690/690 [==============================] - 13s 19ms/step - loss: 0.1300 - accuracy: 0.9545 - val_loss: 0.1563 - val_accuracy: 0.9482\n",
      "Epoch 5/10\n",
      "690/690 [==============================] - 14s 20ms/step - loss: 0.1226 - accuracy: 0.9557 - val_loss: 0.1357 - val_accuracy: 0.9507\n",
      "Epoch 6/10\n",
      "690/690 [==============================] - 13s 19ms/step - loss: 0.1135 - accuracy: 0.9590 - val_loss: 0.1365 - val_accuracy: 0.9533\n",
      "Epoch 7/10\n",
      "690/690 [==============================] - 12s 18ms/step - loss: 0.1049 - accuracy: 0.9612 - val_loss: 0.1323 - val_accuracy: 0.9524\n",
      "Epoch 8/10\n",
      "690/690 [==============================] - 13s 19ms/step - loss: 0.0976 - accuracy: 0.9651 - val_loss: 0.1311 - val_accuracy: 0.9560\n",
      "Epoch 9/10\n",
      "690/690 [==============================] - 13s 19ms/step - loss: 0.0898 - accuracy: 0.9683 - val_loss: 0.1301 - val_accuracy: 0.9558\n",
      "Epoch 10/10\n",
      "690/690 [==============================] - 13s 19ms/step - loss: 0.0821 - accuracy: 0.9716 - val_loss: 0.1292 - val_accuracy: 0.9569\n",
      "148/148 [==============================] - 2s 7ms/step\n",
      "\n",
      "Training with embedding: Type=glove, Dim=300\n",
      "Epoch 1/10\n",
      "690/690 [==============================] - 16s 18ms/step - loss: 0.1775 - accuracy: 0.9398 - val_loss: 0.1470 - val_accuracy: 0.9463\n",
      "Epoch 2/10\n",
      "690/690 [==============================] - 12s 17ms/step - loss: 0.1317 - accuracy: 0.9528 - val_loss: 0.1332 - val_accuracy: 0.9520\n",
      "Epoch 3/10\n",
      "690/690 [==============================] - 12s 18ms/step - loss: 0.1149 - accuracy: 0.9591 - val_loss: 0.1270 - val_accuracy: 0.9548\n",
      "Epoch 4/10\n",
      "690/690 [==============================] - 12s 17ms/step - loss: 0.1003 - accuracy: 0.9648 - val_loss: 0.1270 - val_accuracy: 0.9545\n",
      "Epoch 5/10\n",
      "690/690 [==============================] - 12s 17ms/step - loss: 0.0850 - accuracy: 0.9695 - val_loss: 0.1311 - val_accuracy: 0.9550\n",
      "Epoch 6/10\n",
      "690/690 [==============================] - 14s 20ms/step - loss: 0.0742 - accuracy: 0.9738 - val_loss: 0.1409 - val_accuracy: 0.9562\n",
      "Epoch 7/10\n",
      "690/690 [==============================] - 12s 18ms/step - loss: 0.0604 - accuracy: 0.9791 - val_loss: 0.1495 - val_accuracy: 0.9571\n",
      "Epoch 8/10\n",
      "690/690 [==============================] - 12s 18ms/step - loss: 0.0507 - accuracy: 0.9827 - val_loss: 0.1468 - val_accuracy: 0.9598\n",
      "Epoch 9/10\n",
      "690/690 [==============================] - 12s 18ms/step - loss: 0.0412 - accuracy: 0.9860 - val_loss: 0.1552 - val_accuracy: 0.9529\n",
      "Epoch 10/10\n",
      "690/690 [==============================] - 12s 18ms/step - loss: 0.0334 - accuracy: 0.9893 - val_loss: 0.1839 - val_accuracy: 0.9545\n",
      "148/148 [==============================] - 1s 6ms/step\n",
      "\n",
      "Training with embedding: Type=word2vec, Dim=300\n",
      "Epoch 1/10\n",
      "690/690 [==============================] - 15s 18ms/step - loss: 0.1780 - accuracy: 0.9389 - val_loss: 0.1476 - val_accuracy: 0.9467\n",
      "Epoch 2/10\n",
      "690/690 [==============================] - 13s 19ms/step - loss: 0.1400 - accuracy: 0.9502 - val_loss: 0.1395 - val_accuracy: 0.9503\n",
      "Epoch 3/10\n",
      "690/690 [==============================] - 12s 18ms/step - loss: 0.1288 - accuracy: 0.9542 - val_loss: 0.1406 - val_accuracy: 0.9501\n",
      "Epoch 4/10\n",
      "690/690 [==============================] - 13s 19ms/step - loss: 0.1195 - accuracy: 0.9576 - val_loss: 0.1415 - val_accuracy: 0.9522\n",
      "Epoch 5/10\n",
      "690/690 [==============================] - 12s 17ms/step - loss: 0.1115 - accuracy: 0.9598 - val_loss: 0.1324 - val_accuracy: 0.9543\n",
      "Epoch 6/10\n",
      "690/690 [==============================] - 12s 17ms/step - loss: 0.1006 - accuracy: 0.9630 - val_loss: 0.1351 - val_accuracy: 0.9552\n",
      "Epoch 7/10\n",
      "690/690 [==============================] - 11s 17ms/step - loss: 0.0940 - accuracy: 0.9654 - val_loss: 0.1297 - val_accuracy: 0.9577\n",
      "Epoch 8/10\n",
      "690/690 [==============================] - 11s 17ms/step - loss: 0.0853 - accuracy: 0.9691 - val_loss: 0.1342 - val_accuracy: 0.9550\n",
      "Epoch 9/10\n",
      "690/690 [==============================] - 11s 17ms/step - loss: 0.0762 - accuracy: 0.9717 - val_loss: 0.1372 - val_accuracy: 0.9579\n",
      "Epoch 10/10\n",
      "690/690 [==============================] - 11s 17ms/step - loss: 0.0679 - accuracy: 0.9760 - val_loss: 0.1532 - val_accuracy: 0.9543\n",
      "148/148 [==============================] - 1s 6ms/step\n",
      "\n",
      "Training with embedding: Type=fasttext, Dim=300\n",
      "Epoch 1/10\n",
      "690/690 [==============================] - 15s 18ms/step - loss: 0.1985 - accuracy: 0.9355 - val_loss: 0.1600 - val_accuracy: 0.9440\n",
      "Epoch 2/10\n",
      "690/690 [==============================] - 12s 17ms/step - loss: 0.1528 - accuracy: 0.9446 - val_loss: 0.1486 - val_accuracy: 0.9463\n",
      "Epoch 3/10\n",
      "690/690 [==============================] - 12s 17ms/step - loss: 0.1444 - accuracy: 0.9475 - val_loss: 0.1441 - val_accuracy: 0.9493\n",
      "Epoch 4/10\n",
      "690/690 [==============================] - 12s 17ms/step - loss: 0.1358 - accuracy: 0.9515 - val_loss: 0.1450 - val_accuracy: 0.9474\n",
      "Epoch 5/10\n",
      "690/690 [==============================] - 12s 18ms/step - loss: 0.1297 - accuracy: 0.9528 - val_loss: 0.1364 - val_accuracy: 0.9522\n",
      "Epoch 6/10\n",
      "690/690 [==============================] - 13s 19ms/step - loss: 0.1259 - accuracy: 0.9549 - val_loss: 0.1429 - val_accuracy: 0.9501\n",
      "Epoch 7/10\n",
      "690/690 [==============================] - 13s 19ms/step - loss: 0.1202 - accuracy: 0.9561 - val_loss: 0.1352 - val_accuracy: 0.9510\n",
      "Epoch 8/10\n",
      "690/690 [==============================] - 13s 19ms/step - loss: 0.1165 - accuracy: 0.9576 - val_loss: 0.1325 - val_accuracy: 0.9516\n",
      "Epoch 9/10\n",
      "690/690 [==============================] - 13s 19ms/step - loss: 0.1091 - accuracy: 0.9605 - val_loss: 0.1351 - val_accuracy: 0.9531\n",
      "Epoch 10/10\n",
      "690/690 [==============================] - 13s 19ms/step - loss: 0.1070 - accuracy: 0.9605 - val_loss: 0.1329 - val_accuracy: 0.9531\n",
      "148/148 [==============================] - 1s 6ms/step\n"
     ]
    }
   ],
   "source": [
    "embedded_results = compare_embeddings(X_train_clean, y_train, X_val_clean, y_val, vocab_size, max_len, tokenizer, best_config)"
   ]
  },
  {
   "cell_type": "code",
   "execution_count": 57,
   "metadata": {},
   "outputs": [
    {
     "name": "stdout",
     "output_type": "stream",
     "text": [
      "model 0: acc = 0.9476, macro f1 = 0.8008\n",
      "model 1: acc = 0.9543, macro f1 = 0.8147\n",
      "model 2: acc = 0.9569, macro f1 = 0.8090\n",
      "model 3: acc = 0.9545, macro f1 = 0.8003\n",
      "model 4: acc = 0.9543, macro f1 = 0.7737\n",
      "model 5: acc = 0.9531, macro f1 = 0.7886\n"
     ]
    },
    {
     "data": {
      "image/png": "[encoded data removed]",
      "text/plain": [
       "<Figure size 1000x500 with 1 Axes>"
      ]
     },
     "metadata": {},
     "output_type": "display_data"
    }
   ],
   "source": [
    "for i,result in enumerate(embedded_results):\n",
    "    print(f\"model {i}: acc = {result['val_accuracy']:.4f}, macro f1 = {result['val_f1_macro']:.4f}\")\n",
    "\n",
    "embedded_results_df = pd.DataFrame(embedded_results)\n",
    "\n",
    "embedded_results_df['config_label'] = [\n",
    "    'random-200',\n",
    "    'random-300',\n",
    "    'glove-100',\n",
    "    'glove-300',\n",
    "    'word2vec-300',\n",
    "    'fasttext-300'\n",
    "]\n",
    "\n",
    "\n",
    "x = np.arange(len(embedded_results_df))\n",
    "width = 0.35\n",
    "fig, ax = plt.subplots(figsize=(10, 5))\n",
    "bars1 = ax.bar(x - width/2, embedded_results_df['val_accuracy'], width, label='Val Accuracy')\n",
    "bars2 = ax.bar(x + width/2, embedded_results_df['val_f1_macro'], width, label='Val F1 Macro')\n",
    "ax.set_ylabel('Score')\n",
    "ax.set_title('Validation Accuracy vs F1 Score by Config')\n",
    "ax.set_xticks(x)\n",
    "ax.set_xticklabels(embedded_results_df['config_label'], rotation=45, ha='right')\n",
    "ax.legend()\n",
    "\n",
    "for bars in [bars1, bars2]:\n",
    "    for bar in bars:\n",
    "        height = bar.get_height()\n",
    "        ax.annotate(f'{height:.2f}', xy=(bar.get_x() + bar.get_width() / 2, height),\n",
    "                    xytext=(0, 3), textcoords=\"offset points\", ha='center', fontsize=8)\n",
    "\n",
    "plt.tight_layout()\n",
    "plt.show()\n"
   ]
  },
  {
   "cell_type": "markdown",
   "metadata": {},
   "source": [
    "### Results & Conclusion"
   ]
  },
  {
   "cell_type": "markdown",
   "metadata": {},
   "source": [
    "- Models working in single direction can't get over the base line accuracy (93%). Only Bidirectional models works well\n",
    "- LSTM and GRU peroforms better than Simple RNN\n",
    "- LSTM and GRU are faster in training than Simple RNN and that happens because they have better GPU optimization\n",
    "- Best Model: Emedding: <span style=\"color:skyblue\">GLOVE-100</span>, RNN_TYPE: <span style=\"color:skyblue\">LSTM</span>,"
   ]
  }
 ],
 "metadata": {
  "kernelspec": {
   "display_name": "Python 3",
   "language": "python",
   "name": "python3"
  },
  "language_info": {
   "codemirror_mode": {
    "name": "ipython",
    "version": 3
   },
   "file_extension": ".py",
   "mimetype": "text/x-python",
   "name": "python",
   "nbconvert_exporter": "python",
   "pygments_lexer": "ipython3",
   "version": "3.9.0"
  }
 },
 "nbformat": 4,
 "nbformat_minor": 4
}
